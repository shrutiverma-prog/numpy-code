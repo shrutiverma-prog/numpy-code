{
  "cells": [
    {
      "cell_type": "code",
      "execution_count": null,
      "metadata": {
        "colab": {
          "base_uri": "https://localhost:8080/"
        },
        "id": "Ydu0z0Jae8Q6",
        "outputId": "5b15f2d7-68cd-40e8-a690-8ee7781b2839"
      },
      "outputs": [
        {
          "name": "stdout",
          "output_type": "stream",
          "text": [
            "hello world\n"
          ]
        }
      ],
      "source": [
        "print(\"hello world\")"
      ]
    },
    {
      "cell_type": "code",
      "execution_count": null,
      "metadata": {
        "colab": {
          "base_uri": "https://localhost:8080/"
        },
        "id": "rD99G1CQir7o",
        "outputId": "0838a3bc-6aec-43ba-9f8a-ac29d439e9dd"
      },
      "outputs": [
        {
          "name": "stdout",
          "output_type": "stream",
          "text": [
            "i am a good girl \n",
            " and she is a bad girl\n"
          ]
        }
      ],
      "source": [
        "print(\"i am a good girl \\n and she is a bad girl\")"
      ]
    },
    {
      "cell_type": "code",
      "execution_count": null,
      "metadata": {
        "colab": {
          "base_uri": "https://localhost:8080/"
        },
        "id": "_dyl4KupQVBm",
        "outputId": "8dbb341c-3ebf-4c6b-a171-d326713e70aa"
      },
      "outputs": [
        {
          "name": "stdout",
          "output_type": "stream",
          "text": [
            "13020\n"
          ]
        }
      ],
      "source": [
        "print(420*31)"
      ]
    },
    {
      "cell_type": "code",
      "execution_count": null,
      "metadata": {
        "colab": {
          "base_uri": "https://localhost:8080/"
        },
        "id": "DoEp6d7dQfk3",
        "outputId": "6f76dcbb-ca92-4e2d-e7f2-5d46830db2fc"
      },
      "outputs": [
        {
          "name": "stdout",
          "output_type": "stream",
          "text": [
            "hey~22~12099345\n"
          ]
        }
      ],
      "source": [
        "print(\"hey\", 22 , 12, sep=\"~\", end=\"099345\\n\")"
      ]
    },
    {
      "cell_type": "code",
      "execution_count": null,
      "metadata": {
        "colab": {
          "base_uri": "https://localhost:8080/"
        },
        "id": "Gq9dKuUJYsWU",
        "outputId": "32ab9e65-8bd5-41ac-b85d-f2faed15fb2f"
      },
      "outputs": [
        {
          "name": "stdout",
          "output_type": "stream",
          "text": [
            "48\n",
            "string\n",
            "the type of a1 is <class 'int'>\n",
            "the type of a is <class 'str'>\n",
            "the type of b is <class 'str'>\n"
          ]
        }
      ],
      "source": [
        "a= 16*3\n",
        "b= \"string\"\n",
        "a1= \"string calculatar\"\n",
        "print(a)\n",
        "print(b)\n",
        "print(\"the type of a1 is\",type(a))\n",
        "print(\"the type of a is\",type(a1))\n",
        "print(\"the type of b is\",type(b))\n",
        "\n",
        "\n"
      ]
    },
    {
      "cell_type": "code",
      "execution_count": null,
      "metadata": {
        "colab": {
          "base_uri": "https://localhost:8080/"
        },
        "id": "2Nr39wBaZxku",
        "outputId": "a629ebd1-7a75-4912-f8eb-dc8d82174747"
      },
      "outputs": [
        {
          "name": "stdout",
          "output_type": "stream",
          "text": [
            "hello world\n"
          ]
        }
      ],
      "source": [
        "print(\"hello world\")"
      ]
    },
    {
      "cell_type": "code",
      "execution_count": null,
      "metadata": {
        "colab": {
          "base_uri": "https://localhost:8080/"
        },
        "id": "SYpv_MFhq6m3",
        "outputId": "ff71c543-023d-433f-d46d-f14c124d121f"
      },
      "outputs": [
        {
          "name": "stdout",
          "output_type": "stream",
          "text": [
            "12989\n"
          ]
        }
      ],
      "source": [
        "#PYTHON COMMENTS\n",
        "print(419*31)\n",
        "\n"
      ]
    },
    {
      "cell_type": "markdown",
      "metadata": {
        "id": "Zd5LfaQmYnO_"
      },
      "source": [
        "data **type**"
      ]
    },
    {
      "cell_type": "code",
      "execution_count": null,
      "metadata": {
        "colab": {
          "base_uri": "https://localhost:8080/"
        },
        "id": "L298OsJnRBET",
        "outputId": "4b51c3cb-ba8e-4fa6-bc3d-1b1071aa32f5"
      },
      "outputs": [
        {
          "name": "stdout",
          "output_type": "stream",
          "text": [
            "2\n",
            "<class 'int'>\n"
          ]
        }
      ],
      "source": [
        "x =2\n",
        "print(x)\n",
        "print(type(x))"
      ]
    },
    {
      "cell_type": "code",
      "execution_count": null,
      "metadata": {
        "colab": {
          "base_uri": "https://localhost:8080/"
        },
        "id": "E4suvdJFrcKK",
        "outputId": "f70cb150-8e21-4abd-e083-fd5a3d047c90"
      },
      "outputs": [
        {
          "name": "stdout",
          "output_type": "stream",
          "text": [
            "4.5\n",
            "<class 'float'>\n"
          ]
        }
      ],
      "source": [
        "y =4.5\n",
        "print(y)\n",
        "print(type(y))"
      ]
    },
    {
      "cell_type": "code",
      "execution_count": null,
      "metadata": {
        "colab": {
          "base_uri": "https://localhost:8080/"
        },
        "id": "fmDX2vUDQbn8",
        "outputId": "0bef99bb-d220-4926-a865-9ec911880210"
      },
      "outputs": [
        {
          "name": "stdout",
          "output_type": "stream",
          "text": [
            "(2+5j)\n",
            "<class 'complex'>\n"
          ]
        }
      ],
      "source": [
        "z = 2+5j\n",
        "print(z)\n",
        "print(type(z))"
      ]
    },
    {
      "cell_type": "code",
      "execution_count": null,
      "metadata": {
        "colab": {
          "base_uri": "https://localhost:8080/"
        },
        "id": "rOvpmE5WZSoy",
        "outputId": "099712c6-12f5-4695-f28e-94d16a15cb28"
      },
      "outputs": [
        {
          "name": "stdout",
          "output_type": "stream",
          "text": [
            "this is the day 1 of python class\n",
            "<class 'str'>\n"
          ]
        }
      ],
      "source": [
        "a = \"this is the day 1 of python class\"\n",
        "print(a)\n",
        "print(type(a))"
      ]
    },
    {
      "cell_type": "code",
      "execution_count": null,
      "metadata": {
        "colab": {
          "base_uri": "https://localhost:8080/"
        },
        "id": "s24tB1gpZk5T",
        "outputId": "15b4d691-602c-493d-be83-0b0f96b127e7"
      },
      "outputs": [
        {
          "name": "stdout",
          "output_type": "stream",
          "text": [
            "[1, 2, 3, 4, 5, 6, 7, 8, 9, 10]\n",
            "<class 'list'>\n"
          ]
        }
      ],
      "source": [
        "b =  [1,2,3,4,5,6,7,8,9,10]\n",
        "print(b)\n",
        "print(type(b))"
      ]
    },
    {
      "cell_type": "code",
      "execution_count": null,
      "metadata": {
        "colab": {
          "base_uri": "https://localhost:8080/"
        },
        "id": "EpMT-0amaBwl",
        "outputId": "a5757fdc-2fb4-400a-9ac2-0de57fe82abe"
      },
      "outputs": [
        {
          "name": "stdout",
          "output_type": "stream",
          "text": [
            "(1, 2, 3, 3, 3, 4, 4, 4, 4, 4)\n",
            "<class 'tuple'>\n"
          ]
        }
      ],
      "source": [
        "c = (1,2,3,3,3,4,4,4,4,4)\n",
        "print(c)\n",
        "print(type(c))"
      ]
    },
    {
      "cell_type": "code",
      "execution_count": null,
      "metadata": {
        "colab": {
          "base_uri": "https://localhost:8080/"
        },
        "id": "WuRg4vPUao5t",
        "outputId": "8e4c28e7-4e88-451f-f994-8c698b47ce4c"
      },
      "outputs": [
        {
          "name": "stdout",
          "output_type": "stream",
          "text": [
            "Variable   Type       Data/Info\n",
            "-------------------------------\n",
            "a          str        this is the day 1 of python class\n",
            "b          list       n=10\n",
            "c          tuple      n=10\n",
            "x          int        2\n",
            "y          float      4.5\n",
            "z          complex    (2+5j)\n"
          ]
        }
      ],
      "source": [
        "%whos"
      ]
    },
    {
      "cell_type": "markdown",
      "metadata": {
        "id": "AQAPqaXCumCa"
      },
      "source": [
        "**OPERATORS IN** **PYTHON**"
      ]
    },
    {
      "cell_type": "code",
      "execution_count": null,
      "metadata": {
        "colab": {
          "base_uri": "https://localhost:8080/"
        },
        "id": "OOWJouzvux3U",
        "outputId": "c06e7fb8-747d-443a-c849-53b79eb5cf54"
      },
      "outputs": [
        {
          "name": "stdout",
          "output_type": "stream",
          "text": [
            "9\n"
          ]
        }
      ],
      "source": [
        "a = 5\n",
        "b = 4\n",
        "print(a+b)"
      ]
    },
    {
      "cell_type": "code",
      "execution_count": null,
      "metadata": {
        "colab": {
          "base_uri": "https://localhost:8080/"
        },
        "id": "UF0rkM6bvFq5",
        "outputId": "c728e7c9-f90f-46c6-ce69-a911af3d4d6e"
      },
      "outputs": [
        {
          "name": "stdout",
          "output_type": "stream",
          "text": [
            "6.2\n"
          ]
        }
      ],
      "source": [
        "a = 3\n",
        "b = 3.2\n",
        "print(a+b)"
      ]
    },
    {
      "cell_type": "code",
      "execution_count": null,
      "metadata": {
        "colab": {
          "base_uri": "https://localhost:8080/"
        },
        "id": "uQ0nV6imvbYZ",
        "outputId": "a171cb44-4ab7-492f-8496-75cf23190df3"
      },
      "outputs": [
        {
          "name": "stdout",
          "output_type": "stream",
          "text": [
            "(6+2j)\n"
          ]
        }
      ],
      "source": [
        "a = 3+2j\n",
        "b = 3\n",
        "print(a+b)"
      ]
    },
    {
      "cell_type": "code",
      "execution_count": null,
      "metadata": {
        "colab": {
          "base_uri": "https://localhost:8080/"
        },
        "id": "_WU8oHP1wtyY",
        "outputId": "e90f9807-e2cd-49b5-fa7f-c572e0501273"
      },
      "outputs": [
        {
          "name": "stdout",
          "output_type": "stream",
          "text": [
            "Hello students\n"
          ]
        }
      ],
      "source": [
        "a = \"Hello\"\n",
        "b = \"students\"\n",
        "print(a+\" \"+b)"
      ]
    },
    {
      "cell_type": "code",
      "execution_count": null,
      "metadata": {
        "colab": {
          "base_uri": "https://localhost:8080/"
        },
        "id": "sSmo3IbVxnw8",
        "outputId": "922dd310-c900-40eb-f9d9-e1e19b65d4f2"
      },
      "outputs": [
        {
          "name": "stdout",
          "output_type": "stream",
          "text": [
            "5\n"
          ]
        }
      ],
      "source": [
        "a = 15\n",
        "b = 10\n",
        "print(a-b)"
      ]
    },
    {
      "cell_type": "code",
      "execution_count": null,
      "metadata": {
        "colab": {
          "base_uri": "https://localhost:8080/"
        },
        "id": "nv-q1SYcx30m",
        "outputId": "8342cd3a-a807-4f44-f506-3b47b3403f69"
      },
      "outputs": [
        {
          "name": "stdout",
          "output_type": "stream",
          "text": [
            "0.9999999999999998\n"
          ]
        }
      ],
      "source": [
        "a = 2.3\n",
        "b = 1.3\n",
        "print(a-b)"
      ]
    },
    {
      "cell_type": "markdown",
      "metadata": {
        "id": "YEZDA-LM5Djh"
      },
      "source": [
        "**multiply**"
      ]
    },
    {
      "cell_type": "code",
      "execution_count": null,
      "metadata": {
        "colab": {
          "base_uri": "https://localhost:8080/"
        },
        "id": "r0UQxSUM5HAH",
        "outputId": "05987f2d-5bea-4aa6-e07f-4ce94e2ca0c4"
      },
      "outputs": [
        {
          "name": "stdout",
          "output_type": "stream",
          "text": [
            "2025\n"
          ]
        }
      ],
      "source": [
        "a= 45\n",
        "b= 45\n",
        "print(a*b)"
      ]
    },
    {
      "cell_type": "code",
      "execution_count": null,
      "metadata": {
        "colab": {
          "base_uri": "https://localhost:8080/"
        },
        "id": "ygOv2F6m5KYK",
        "outputId": "c860ab7b-2005-4778-80e2-f6afcbd307a4"
      },
      "outputs": [
        {
          "name": "stdout",
          "output_type": "stream",
          "text": [
            "53963.29\n"
          ]
        }
      ],
      "source": [
        "a= 23.23\n",
        "b= 2323\n",
        "print(a*b)"
      ]
    },
    {
      "cell_type": "markdown",
      "metadata": {
        "id": "axcMMx7S5VnP"
      },
      "source": [
        "**Divison**"
      ]
    },
    {
      "cell_type": "code",
      "execution_count": null,
      "metadata": {
        "colab": {
          "base_uri": "https://localhost:8080/"
        },
        "id": "BHzn7LOn5ZBP",
        "outputId": "3325b5c8-1404-4eae-e09b-0b772eb4f9bb"
      },
      "outputs": [
        {
          "name": "stdout",
          "output_type": "stream",
          "text": [
            "11.5\n"
          ]
        }
      ],
      "source": [
        "a= 23\n",
        "b= 2\n",
        "print(a/b)"
      ]
    },
    {
      "cell_type": "markdown",
      "metadata": {
        "id": "dctmhxEk5h8K"
      },
      "source": [
        "**Modules**"
      ]
    },
    {
      "cell_type": "code",
      "execution_count": null,
      "metadata": {
        "colab": {
          "base_uri": "https://localhost:8080/"
        },
        "id": "D-sDFQc05k7m",
        "outputId": "a0eb85ca-a150-4fc2-ab72-d879fa41870e"
      },
      "outputs": [
        {
          "name": "stdout",
          "output_type": "stream",
          "text": [
            "2\n"
          ]
        }
      ],
      "source": [
        "a =23\n",
        "b= 3\n",
        "print(a%b)"
      ]
    },
    {
      "cell_type": "code",
      "execution_count": null,
      "metadata": {
        "colab": {
          "base_uri": "https://localhost:8080/"
        },
        "id": "YqEdozzO51UD",
        "outputId": "84f440ec-2c3f-4810-df81-ed5101ece4ff"
      },
      "outputs": [
        {
          "name": "stdout",
          "output_type": "stream",
          "text": [
            "0\n"
          ]
        }
      ],
      "source": [
        "a= 12\n",
        "b= 3\n",
        "print(a%b)"
      ]
    },
    {
      "cell_type": "markdown",
      "metadata": {
        "id": "jjKuzA-36Dbr"
      },
      "source": [
        "**EXPONENT**"
      ]
    },
    {
      "cell_type": "code",
      "execution_count": null,
      "metadata": {
        "colab": {
          "base_uri": "https://localhost:8080/"
        },
        "id": "WantgtID6GWo",
        "outputId": "2dde14e5-3052-4aa9-9fd0-4fa14d65f6b1"
      },
      "outputs": [
        {
          "name": "stdout",
          "output_type": "stream",
          "text": [
            "71162028433520217717099884851404495326786614148274137562533191244754226421072922193229393035406290047490322006127486170528820460414671897074184746917638236810663780872933871199771053029074871072046645088603300420278272474373361352870797685329285463690039885441075398107839063255747535400015566353549647882767414182717586010912021318113386679928289227315380064286145450539958069165193638416244911434618495833200180049949\n"
          ]
        }
      ],
      "source": [
        "a = 41256789\n",
        "b = 2\n",
        "print(a**55)"
      ]
    },
    {
      "cell_type": "code",
      "execution_count": null,
      "metadata": {
        "colab": {
          "base_uri": "https://localhost:8080/"
        },
        "id": "gqTUBaYK6QAE",
        "outputId": "45c7f3f2-a201-4599-9926-157aab0ca223"
      },
      "outputs": [
        {
          "name": "stdout",
          "output_type": "stream",
          "text": [
            "1.4158087322788437e+167\n"
          ]
        }
      ],
      "source": [
        "a = ((789*78)+(78.256/45)-(45*4)+(856**57))\n",
        "print(a)"
      ]
    },
    {
      "cell_type": "code",
      "execution_count": null,
      "metadata": {
        "colab": {
          "base_uri": "https://localhost:8080/"
        },
        "id": "DzgYbDZY87yl",
        "outputId": "8a5a152c-a89c-44d6-895f-84f24b6e0d44"
      },
      "outputs": [
        {
          "name": "stdout",
          "output_type": "stream",
          "text": [
            "False\n"
          ]
        }
      ],
      "source": [
        "a =  True\n",
        "b= False\n",
        "print(a and b)"
      ]
    },
    {
      "cell_type": "code",
      "execution_count": null,
      "metadata": {
        "colab": {
          "base_uri": "https://localhost:8080/"
        },
        "id": "28WXoh0Q9ejt",
        "outputId": "bda73074-139f-48a0-c16b-c5a72ffef970"
      },
      "outputs": [
        {
          "name": "stdout",
          "output_type": "stream",
          "text": [
            "True\n"
          ]
        }
      ],
      "source": [
        "a= True\n",
        "b= True\n",
        "print(a and b)"
      ]
    },
    {
      "cell_type": "code",
      "execution_count": null,
      "metadata": {
        "colab": {
          "base_uri": "https://localhost:8080/"
        },
        "id": "mEn4Ot_L9jZV",
        "outputId": "7e4a40ca-1981-4069-892e-1abc6c876aba"
      },
      "outputs": [
        {
          "name": "stdout",
          "output_type": "stream",
          "text": [
            "False\n"
          ]
        }
      ],
      "source": [
        "a= False\n",
        "b= False\n",
        "print(a and b)"
      ]
    },
    {
      "cell_type": "code",
      "execution_count": null,
      "metadata": {
        "colab": {
          "base_uri": "https://localhost:8080/"
        },
        "id": "-eFqkhNo9rSv",
        "outputId": "1ff10ad9-85f6-4d0d-e006-a50ac48818e0"
      },
      "outputs": [
        {
          "name": "stdout",
          "output_type": "stream",
          "text": [
            "True\n"
          ]
        }
      ],
      "source": [
        "a= False\n",
        "b=False\n",
        "print(not(a))"
      ]
    },
    {
      "cell_type": "code",
      "execution_count": null,
      "metadata": {
        "colab": {
          "base_uri": "https://localhost:8080/"
        },
        "id": "_uDDudvZ-Sqm",
        "outputId": "6b7f822b-cc75-4047-f88d-858d1d54f191"
      },
      "outputs": [
        {
          "name": "stdout",
          "output_type": "stream",
          "text": [
            "False\n"
          ]
        }
      ],
      "source": [
        "a= True\n",
        "b= True\n",
        "print(not(a))"
      ]
    },
    {
      "cell_type": "code",
      "execution_count": null,
      "metadata": {
        "colab": {
          "base_uri": "https://localhost:8080/"
        },
        "id": "xwr3DzMJ-X_x",
        "outputId": "aa3548b7-0d6e-40a5-8481-9945462cb40e"
      },
      "outputs": [
        {
          "name": "stdout",
          "output_type": "stream",
          "text": [
            "34806097\n"
          ]
        }
      ],
      "source": [
        "a= ((8922*2852)+(7821*222)-(2566*256)+(8281187))\n",
        "print(a)"
      ]
    },
    {
      "cell_type": "markdown",
      "metadata": {
        "id": "RT26g18ShYfS"
      },
      "source": [
        "**DAY 3 BUILT IN FUNCTIONS**"
      ]
    },
    {
      "cell_type": "code",
      "execution_count": null,
      "metadata": {
        "colab": {
          "base_uri": "https://localhost:8080/"
        },
        "id": "pKwF9E_chyas",
        "outputId": "43598f35-bd4d-46c5-d75a-8196332c30c0"
      },
      "outputs": [
        {
          "name": "stdout",
          "output_type": "stream",
          "text": [
            "233.3\n"
          ]
        }
      ],
      "source": [
        "x= abs(-233.3)\n",
        "print(x)"
      ]
    },
    {
      "cell_type": "code",
      "execution_count": null,
      "metadata": {
        "colab": {
          "base_uri": "https://localhost:8080/"
        },
        "id": "o0s1NnnjiTD0",
        "outputId": "ff246871-1428-43f1-f433-1fe2bf315625"
      },
      "outputs": [
        {
          "name": "stdout",
          "output_type": "stream",
          "text": [
            "0b100100\n"
          ]
        }
      ],
      "source": [
        "x= bin(36)\n",
        "print(x)"
      ]
    },
    {
      "cell_type": "code",
      "execution_count": null,
      "metadata": {
        "colab": {
          "base_uri": "https://localhost:8080/"
        },
        "id": "zt7R6dJJkcSk",
        "outputId": "2e331a45-50d8-42ff-86e6-cb080c1f66d6"
      },
      "outputs": [
        {
          "name": "stdout",
          "output_type": "stream",
          "text": [
            "0b10011\n"
          ]
        }
      ],
      "source": [
        "y=bin(19)\n",
        "print(y)"
      ]
    },
    {
      "cell_type": "markdown",
      "metadata": {
        "id": "HlNK8E1HmusV"
      },
      "source": [
        "**Python bytes function**"
      ]
    },
    {
      "cell_type": "code",
      "execution_count": null,
      "metadata": {
        "colab": {
          "base_uri": "https://localhost:8080/"
        },
        "id": "ziYPTMCMnbly",
        "outputId": "14316937-e81b-4569-bfeb-79fc71fff353"
      },
      "outputs": [
        {
          "name": "stdout",
          "output_type": "stream",
          "text": [
            "b'\\x00\\x00\\x00\\x00'\n"
          ]
        }
      ],
      "source": [
        "a=bytes(4)\n",
        "print(a)"
      ]
    },
    {
      "cell_type": "code",
      "execution_count": null,
      "metadata": {
        "colab": {
          "base_uri": "https://localhost:8080/"
        },
        "id": "9eYXXQKonfpM",
        "outputId": "d35ef908-cec1-481f-b0c0-62e34fd222c6"
      },
      "outputs": [
        {
          "name": "stdout",
          "output_type": "stream",
          "text": [
            "b'\\x00\\x00\\x00\\x00\\x00\\x00\\x00\\x00\\x00\\x00\\x00\\x00'\n"
          ]
        }
      ],
      "source": [
        "x=bytes(12)\n",
        "print(x)"
      ]
    },
    {
      "cell_type": "code",
      "execution_count": null,
      "metadata": {
        "colab": {
          "base_uri": "https://localhost:8080/"
        },
        "id": "VvZMWmhqnqaF",
        "outputId": "221546c9-0df1-4418-9a70-19f713468670"
      },
      "outputs": [
        {
          "name": "stdout",
          "output_type": "stream",
          "text": [
            "_\n"
          ]
        }
      ],
      "source": [
        "a=chr(95)\n",
        "print(a)"
      ]
    },
    {
      "cell_type": "code",
      "execution_count": null,
      "metadata": {
        "colab": {
          "base_uri": "https://localhost:8080/"
        },
        "id": "3PAopn72oKRA",
        "outputId": "4d2f3153-1f4b-4c0a-9228-54b9fea8c6b0"
      },
      "outputs": [
        {
          "name": "stdout",
          "output_type": "stream",
          "text": [
            "(3+4.5j)\n"
          ]
        }
      ],
      "source": [
        "a= complex(3,4.5)\n",
        "print(a)"
      ]
    },
    {
      "cell_type": "code",
      "execution_count": null,
      "metadata": {
        "colab": {
          "base_uri": "https://localhost:8080/"
        },
        "id": "-Ad6lRRrpVyY",
        "outputId": "1b3c4bf2-1b9c-4b7d-e3be-4ab92fb515f7"
      },
      "outputs": [
        {
          "name": "stdout",
          "output_type": "stream",
          "text": [
            "(4+3j)\n"
          ]
        }
      ],
      "source": [
        "a= complex(4,3)\n",
        "print(a)"
      ]
    },
    {
      "cell_type": "markdown",
      "metadata": {
        "id": "yNg1eUkseQdF"
      },
      "source": [
        "**String function**"
      ]
    },
    {
      "cell_type": "code",
      "execution_count": null,
      "metadata": {
        "colab": {
          "base_uri": "https://localhost:8080/"
        },
        "id": "zSTYh0KLebcx",
        "outputId": "f06726b4-f7a6-48ea-fa22-215b0baf2ecc"
      },
      "outputs": [
        {
          "name": "stdout",
          "output_type": "stream",
          "text": [
            "23456*67\n",
            "<class 'str'>\n"
          ]
        }
      ],
      "source": [
        "a= str(\"23456*67\")\n",
        "print(a)\n",
        "print(type(a))"
      ]
    },
    {
      "cell_type": "code",
      "execution_count": null,
      "metadata": {
        "colab": {
          "base_uri": "https://localhost:8080/"
        },
        "id": "k8Eobkx1enA1",
        "outputId": "b4a7b9d1-3af2-46fd-e968-fb6eeea39f6a"
      },
      "outputs": [
        {
          "name": "stdout",
          "output_type": "stream",
          "text": [
            "54647.2727\n",
            "<class 'str'>\n"
          ]
        }
      ],
      "source": [
        "a= str(\"54647.2727\")\n",
        "print(a)\n",
        "print(type(a))"
      ]
    },
    {
      "cell_type": "markdown",
      "metadata": {
        "id": "XG5pzqI6oQAQ"
      },
      "source": [
        "**input function**"
      ]
    },
    {
      "cell_type": "code",
      "execution_count": null,
      "metadata": {
        "colab": {
          "base_uri": "https://localhost:8080/"
        },
        "id": "UqC2cpDJoToi",
        "outputId": "ab0e85d6-d67d-49f1-f333-3123eea4566d"
      },
      "outputs": [
        {
          "name": "stdout",
          "output_type": "stream",
          "text": [
            "enter your nameshruit\n",
            "Hey shruit\n",
            "enter your age21\n",
            "your age is 21\n",
            "enter your genderfemale\n",
            "your gender is female\n",
            "enter your locationdelhi\n",
            "your location is delhi\n"
          ]
        }
      ],
      "source": [
        "a= input(\"enter your name\")\n",
        "print(\"Hey\",a)\n",
        "b= input(\"enter your age\")\n",
        "print(\"your age is\",b)\n",
        "c=input(\"enter your gender\")\n",
        "print(\"your gender is\" ,c)\n",
        "x =input(\"enter your location\")\n",
        "print(\"your location is\",x)"
      ]
    },
    {
      "cell_type": "markdown",
      "metadata": {
        "id": "-JyBDc3yBLTL"
      },
      "source": [
        "**CONTROL FLOW STATEMENT**"
      ]
    },
    {
      "cell_type": "markdown",
      "metadata": {
        "id": "zF3BKABoB8OH"
      },
      "source": [
        "**#IF CONDITON**"
      ]
    },
    {
      "cell_type": "markdown",
      "metadata": {
        "id": "ph8GfKkzCg41"
      },
      "source": [
        "WRITE A PROGRAM TO CALCULATE A PERCENTAGE OF A STUDENT IN THE SUBJECTS MATHS SCIENCE SOCIAL ENGLISH AND HINDI"
      ]
    },
    {
      "cell_type": "code",
      "execution_count": null,
      "metadata": {
        "colab": {
          "base_uri": "https://localhost:8080/"
        },
        "id": "E8yK2KGfEDF0",
        "outputId": "4598974b-5735-4fe3-db54-f284564274b1"
      },
      "outputs": [
        {
          "name": "stdout",
          "output_type": "stream",
          "text": [
            "ENTER THE NAME OF STUDENTshruti\n",
            "Enter the marks of maths56\n",
            "Enter the marks of science78\n",
            "Enter the marks of social science56\n",
            "Enter the marks of hindi78\n",
            "Enter the marks of english80\n",
            "the percent scored by shruti is 69.6\n"
          ]
        }
      ],
      "source": [
        "x=input(\"ENTER THE NAME OF STUDENT\")\n",
        "y=int(input(\"Enter the marks of maths\"))\n",
        "z=int(input(\"Enter the marks of science\"))\n",
        "a=int(input(\"Enter the marks of social science\"))\n",
        "b=int(input(\"Enter the marks of hindi\"))\n",
        "c=int(input(\"Enter the marks of english\"))\n",
        "n=((y+z+a+b+c)/500)*100\n",
        "print(\"the percent scored by shruti is\", n)"
      ]
    },
    {
      "cell_type": "code",
      "execution_count": null,
      "metadata": {
        "colab": {
          "base_uri": "https://localhost:8080/"
        },
        "id": "BjaqxI1e4SAd",
        "outputId": "1be9dbf8-0379-4164-ffc8-171d77115781"
      },
      "outputs": [
        {
          "name": "stdout",
          "output_type": "stream",
          "text": [
            "EN6TER THE PERCENTAGE SCORED BY A STUDENT70\n",
            "c garde\n"
          ]
        }
      ],
      "source": [
        "a=int(input(\"EN6TER THE PERCENTAGE SCORED BY A STUDENT\"))\n",
        "if a>=90:\n",
        "  print(\"A grade\")\n",
        "  if a>=75 and a<90:\n",
        "    print(\"b grade\")\n",
        "if a>=65 and a<75:\n",
        "  print(\"c garde\")\n"
      ]
    },
    {
      "cell_type": "markdown",
      "metadata": {
        "id": "lMtzI-ibE8nJ"
      },
      "source": [
        "**if else statement**"
      ]
    },
    {
      "cell_type": "markdown",
      "metadata": {
        "id": "WO6GDi2BGLym"
      },
      "source": [
        "**Write a number to display hello ifn numeber entered by user is a multiple of 5 else print bye**"
      ]
    },
    {
      "cell_type": "code",
      "execution_count": null,
      "metadata": {
        "colab": {
          "base_uri": "https://localhost:8080/"
        },
        "id": "hM-aAhqGGYqg",
        "outputId": "9e479d41-10c3-423d-d559-6fe7bb1bfec4"
      },
      "outputs": [
        {
          "name": "stdout",
          "output_type": "stream",
          "text": [
            "Enter the number29\n",
            "bye\n"
          ]
        }
      ],
      "source": [
        "a= int(input(\"Enter the number\"))\n",
        "\n",
        "if a%5==0:\n",
        "  print(\"Hello\")\n",
        "else:\n",
        "  print(\"bye\")"
      ]
    },
    {
      "cell_type": "code",
      "execution_count": null,
      "metadata": {
        "colab": {
          "base_uri": "https://localhost:8080/"
        },
        "id": "iTf3VMycG3bI",
        "outputId": "fbeea644-ad92-47e7-d5e5-777894316a7f"
      },
      "outputs": [
        {
          "name": "stdout",
          "output_type": "stream",
          "text": [
            "Enter the number-2\n",
            "negative number\n"
          ]
        }
      ],
      "source": [
        "a=int(input(\"Enter the number\"))\n",
        "if a>0:\n",
        "  print(\"positive number\")\n",
        "else:\n",
        "  print(\"negative number\")"
      ]
    },
    {
      "cell_type": "markdown",
      "metadata": {
        "id": "xoZbqOHPJr6B"
      },
      "source": [
        "** if elif else**"
      ]
    },
    {
      "cell_type": "code",
      "execution_count": null,
      "metadata": {
        "id": "UlC2vgc6mcxi"
      },
      "outputs": [],
      "source": [
        "city= input(\"enter the city\").strip()\n",
        "if city== \"Delhi\":\n",
        "  print(\"the monument in Delhi is red fort\")\n",
        "elif city ==\"Agra\":\n",
        "  print(\"the monument in Agra is Taj mahal\")\n",
        "elif city== \"jaipur\":\n",
        "  print(\"the  monument  in jaipur is jalmahal\")\n",
        "elif city==\"Orisaa\":\n",
        "  print(\"the monument in orissa is konak temple\")\n",
        "elif city==\"hyderabad\":\n",
        "  print(\"the monument in hyderabad is charminar\")\n",
        "else:\n",
        "  print(\"record not found\")"
      ]
    },
    {
      "cell_type": "markdown",
      "metadata": {
        "id": "RGKAhFs_Gmbs"
      },
      "source": [
        "**Concept of loops\n",
        "while loop\n",
        "program to display number from 1 to 5**"
      ]
    },
    {
      "cell_type": "code",
      "execution_count": null,
      "metadata": {
        "id": "5iEpsPU_G2jf"
      },
      "outputs": [],
      "source": [
        "i = 1\n",
        "n = 10\n",
        "while i<=n:\n",
        "  print(i)\n",
        "  i=i+1"
      ]
    },
    {
      "cell_type": "code",
      "execution_count": null,
      "metadata": {
        "colab": {
          "background_save": true
        },
        "id": "122jEuRNHJBZ",
        "outputId": "e0f3883c-9f78-4f01-8da4-b61e4e9f3d83"
      },
      "outputs": [
        {
          "name": "stdout",
          "output_type": "stream",
          "text": [
            "1\n",
            "2\n",
            "3\n",
            "4\n",
            "5\n",
            "6\n",
            "7\n",
            "8\n",
            "9\n",
            "10\n",
            "this is the multiple table\n"
          ]
        }
      ],
      "source": [
        "\n",
        "\n",
        "x = int(input(\"enter the value\"))\n",
        "i = 1\n",
        "while i<=10:\n",
        "  print(x*i)\n",
        "  i=i+1\n",
        "print(\"this is the multiple table\")"
      ]
    },
    {
      "cell_type": "markdown",
      "metadata": {
        "id": "CysIxPaB_KPV"
      },
      "source": [
        "**using else statement in the while loop**"
      ]
    },
    {
      "cell_type": "code",
      "execution_count": null,
      "metadata": {
        "colab": {
          "base_uri": "https://localhost:8080/"
        },
        "id": "akgKu3MB_ULi",
        "outputId": "1ff8f7d4-e355-416e-c07b-e9885c0a3ff7"
      },
      "outputs": [
        {
          "name": "stdout",
          "output_type": "stream",
          "text": [
            "hello student\n",
            "hello student\n",
            "hello student\n",
            "hello student\n",
            "hello student\n",
            "hello student\n",
            "hello student\n",
            "hello student\n",
            "hello student\n",
            "hello student\n",
            "hello student\n",
            "hello student\n",
            "hello student\n",
            "hello student\n",
            "hello student\n",
            "hello student\n",
            "hello student\n",
            "hello student\n",
            "hello student\n",
            "hello student\n",
            "hello student\n",
            "hello student\n",
            "hello student\n",
            "hello student\n",
            "hello student\n",
            "this is the else block\n"
          ]
        }
      ],
      "source": [
        "count=0\n",
        "while(count<25):\n",
        " count=count+1\n",
        " print(\"hello student\")\n",
        "else:\n",
        "  print(\"this is the else block\")"
      ]
    },
    {
      "cell_type": "markdown",
      "metadata": {
        "id": "TtXjwW3nCrJW"
      },
      "source": [
        "**for loop**"
      ]
    },
    {
      "cell_type": "code",
      "execution_count": null,
      "metadata": {
        "colab": {
          "base_uri": "https://localhost:8080/"
        },
        "id": "Gr5zVsc1Cwai",
        "outputId": "7a6c2e6f-8116-4182-cbdb-6c7c7bb8cbc0"
      },
      "outputs": [
        {
          "name": "stdout",
          "output_type": "stream",
          "text": [
            "apple\n",
            "banana\n",
            "cherry\n"
          ]
        }
      ],
      "source": [
        "fruits=[\"apple\",\"banana\",\"cherry\"]\n",
        "for x in fruits:\n",
        "  print(x)"
      ]
    },
    {
      "cell_type": "markdown",
      "metadata": {
        "id": "bk7OgZaANj7f"
      },
      "source": [
        "**looping through a string**"
      ]
    },
    {
      "cell_type": "code",
      "execution_count": null,
      "metadata": {
        "colab": {
          "base_uri": "https://localhost:8080/"
        },
        "id": "Ti4Oy4THNm_J",
        "outputId": "5c1e4090-f692-425a-b1bf-24133fdbe281"
      },
      "outputs": [
        {
          "name": "stdout",
          "output_type": "stream",
          "text": [
            "b\n",
            "a\n",
            "n\n",
            "a\n",
            "n\n",
            "a\n"
          ]
        }
      ],
      "source": [
        "for x in \"banana\":\n",
        "  print(x)"
      ]
    },
    {
      "cell_type": "code",
      "execution_count": null,
      "metadata": {
        "colab": {
          "base_uri": "https://localhost:8080/"
        },
        "id": "00rflPb-Nz6n",
        "outputId": "8841206d-8332-4026-af03-b1562394488d"
      },
      "outputs": [
        {
          "name": "stdout",
          "output_type": "stream",
          "text": [
            "3\n",
            "4\n",
            "5\n",
            "6\n",
            "7\n",
            "8\n",
            "9\n",
            "10\n",
            "11\n",
            "12\n",
            "13\n",
            "14\n",
            "15\n",
            "16\n",
            "17\n",
            "18\n",
            "19\n",
            "20\n",
            "21\n",
            "22\n",
            "23\n",
            "24\n",
            "25\n",
            "26\n",
            "27\n",
            "28\n",
            "29\n",
            "30\n",
            "31\n",
            "32\n",
            "33\n",
            "34\n",
            "35\n",
            "36\n",
            "37\n",
            "38\n",
            "39\n",
            "40\n",
            "41\n",
            "42\n",
            "43\n",
            "44\n",
            "45\n",
            "46\n",
            "47\n",
            "48\n",
            "49\n"
          ]
        }
      ],
      "source": [
        "for x in range(3,50):\n",
        "  print(x)"
      ]
    },
    {
      "cell_type": "markdown",
      "metadata": {
        "id": "g-4X_Dt_aoE5"
      },
      "source": [
        "**creating a user defined function**"
      ]
    },
    {
      "cell_type": "code",
      "execution_count": null,
      "metadata": {
        "colab": {
          "base_uri": "https://localhost:8080/"
        },
        "id": "H6DMmboCasj6",
        "outputId": "ba47bf1b-b7aa-46b2-d98d-6f93942e9214"
      },
      "outputs": [
        {
          "name": "stdout",
          "output_type": "stream",
          "text": [
            "hello class\n",
            "this is the function\n"
          ]
        }
      ],
      "source": [
        "def my_function():\n",
        "  print(\"hello class\")\n",
        "  print(\"this is the function\")\n",
        "my_function()\n"
      ]
    },
    {
      "cell_type": "code",
      "execution_count": null,
      "metadata": {
        "id": "gfn7fAZUat1s"
      },
      "outputs": [],
      "source": [
        " def contact():\n",
        "  print(\"contact details of the school\")\n",
        "  print(\"Delhi public school\")\n",
        "  print(\"Bangalore karnataka\")\n",
        "  print(\"345676542\")\n",
        "  print(\"dps.contact@gmail.com\")"
      ]
    },
    {
      "cell_type": "code",
      "execution_count": null,
      "metadata": {
        "colab": {
          "background_save": true,
          "base_uri": "https://localhost:8080/"
        },
        "id": "RHYGT0WCdRDr",
        "outputId": "af820b29-63c7-4812-9f1b-156e205026e0"
      },
      "outputs": [
        {
          "name": "stdout",
          "output_type": "stream",
          "text": [
            "\n",
            "contact details of the school\n",
            "Delhi public school\n",
            "Bangalore karnataka\n",
            "345676542\n",
            "dps.contact@gmail.com\n",
            "\n",
            "contact details of the school\n",
            "Delhi public school\n",
            "Bangalore karnataka\n",
            "345676542\n",
            "dps.contact@gmail.com\n"
          ]
        }
      ],
      "source": [
        "for i in range(4):\n",
        "  a=input(\"Name of the student\")\n",
        "  b=int(input(\"enter the marks of maths\"))\n",
        "  c= int(input(\"enter the marks of science\"))\n",
        "  d=int(input(\"enter the marks of social science\"))\n",
        "  print()\n",
        "  contact()"
      ]
    },
    {
      "cell_type": "markdown",
      "metadata": {
        "id": "Ttmxqnm_fFqp"
      },
      "source": [
        "**argument**"
      ]
    },
    {
      "cell_type": "code",
      "execution_count": null,
      "metadata": {
        "id": "NZ20AvfifHSm"
      },
      "outputs": [],
      "source": [
        "def my_function(fname):\n",
        "  print(fname + \" verma\")\n",
        "\n"
      ]
    },
    {
      "cell_type": "code",
      "execution_count": null,
      "metadata": {
        "colab": {
          "base_uri": "https://localhost:8080/"
        },
        "id": "oRI8Erjcf2hU",
        "outputId": "11611bcb-b110-48c5-e6e5-c28115d8443c"
      },
      "outputs": [
        {
          "name": "stdout",
          "output_type": "stream",
          "text": [
            "shruti verma\n",
            "priya verma\n"
          ]
        }
      ],
      "source": [
        "my_function(\"shruti\")\n",
        "my_function(\"priya\")"
      ]
    },
    {
      "cell_type": "markdown",
      "metadata": {
        "id": "lFGtP37bwFMX"
      },
      "source": [
        "**write a program to calculate the elecetricity bill**\n",
        "if 500 unit used - pay rs 5 for each unit\n",
        "if 700 unit used - pay rs 10 each unit\n",
        "if 1000 unit used - pay rs 15 each unit\n",
        "if more than 1000 unit used -  pay rs 20 each unit"
      ]
    },
    {
      "cell_type": "code",
      "execution_count": null,
      "metadata": {
        "id": "m1kjBlF2wpVM"
      },
      "outputs": [],
      "source": [
        "def electricity_bill(n):\n",
        "  if n<=500:\n",
        "     print(\"your bill is rs \",n*5)\n",
        "  elif n<500 and n<1000:\n",
        "    print(\"your bill is rs \",n*10)\n",
        "  elif n<700 and n<1000:\n",
        "    print(\"your bill is rs \",n*15)\n",
        "  elif n>1000:\n",
        "    print(\"your bill is rs \",n*20)\n"
      ]
    },
    {
      "cell_type": "code",
      "execution_count": null,
      "metadata": {
        "colab": {
          "base_uri": "https://localhost:8080/"
        },
        "id": "9Fgqlg42zRmj",
        "outputId": "f4c5e2c3-98ee-42ff-fbf0-463adde91c11"
      },
      "outputs": [
        {
          "name": "stdout",
          "output_type": "stream",
          "text": [
            "Enter the name of customerhdn\n",
            "enter the unit of you have electricity you have used1000\n",
            "Enter the name of customershruti\n",
            "enter the unit of you have electricity you have used200\n",
            "your bill is rs  1000\n",
            "Enter the name of customernjsjkf\n",
            "enter the unit of you have electricity you have used500\n",
            "your bill is rs  2500\n"
          ]
        }
      ],
      "source": [
        "for i in range(3):\n",
        "  a= input(\"Enter the name of customer\")\n",
        "  n = int(input(\"enter the unit of you have electricity you have used\"))\n",
        "  electricity_bill(n)"
      ]
    },
    {
      "cell_type": "code",
      "execution_count": null,
      "metadata": {
        "id": "IpbCS76d3zEz"
      },
      "outputs": [],
      "source": [
        "def instructions():\n",
        "  print(\"last date of paying the bill is 20 april\")\n",
        "  print(\"after 20 april you need to pay 1000 rs as a fine\")\n",
        "  print(\"electricity office new delhi\")\n",
        "\n"
      ]
    },
    {
      "cell_type": "markdown",
      "metadata": {
        "id": "SWK7RDxmHfS-"
      },
      "source": [
        "\\"
      ]
    },
    {
      "cell_type": "code",
      "execution_count": null,
      "metadata": {
        "id": "z8Zp1XOsLx7w"
      },
      "outputs": [],
      "source": [
        "for i in range(3):\n",
        "  a= input(\"Enter the name of customer\")\n",
        "  n= int(input(\"enter the unit of you have electricity you have used\"))\n",
        "  electricity_bill(n)\n",
        "  print()\n",
        "  intructions()\n",
        "\n"
      ]
    },
    {
      "cell_type": "code",
      "execution_count": null,
      "metadata": {
        "id": "2dVRryZUMJmW"
      },
      "outputs": [],
      "source": [
        "def medical_store(n):\n",
        "  if n<=10:\n",
        "    print(\" Your total bill is\",n*10)\n",
        "  elif n<=20:\n",
        "    print(\"Your total bill is\",n*20)\n"
      ]
    },
    {
      "cell_type": "code",
      "execution_count": null,
      "metadata": {
        "colab": {
          "base_uri": "https://localhost:8080/",
          "height": 245
        },
        "id": "euyTQiJIxcZl",
        "outputId": "a4dcb8c5-f04f-4ff8-cd49-cae32966e46b"
      },
      "outputs": [
        {
          "name": "stdout",
          "output_type": "stream",
          "text": [
            "Enter the name of medicineparacetamol\n",
            "Enter the bill of medicine10\n"
          ]
        },
        {
          "ename": "NameError",
          "evalue": "name 'medical_store' is not defined",
          "output_type": "error",
          "traceback": [
            "\u001b[0;31m---------------------------------------------------------------------------\u001b[0m",
            "\u001b[0;31mNameError\u001b[0m                                 Traceback (most recent call last)",
            "\u001b[0;32m<ipython-input-6-e3245bfc650b>\u001b[0m in \u001b[0;36m<cell line: 0>\u001b[0;34m()\u001b[0m\n\u001b[1;32m      2\u001b[0m   \u001b[0ma\u001b[0m\u001b[0;34m=\u001b[0m \u001b[0minput\u001b[0m\u001b[0;34m(\u001b[0m\u001b[0;34m\"Enter the name of medicine\"\u001b[0m\u001b[0;34m)\u001b[0m\u001b[0;34m\u001b[0m\u001b[0;34m\u001b[0m\u001b[0m\n\u001b[1;32m      3\u001b[0m   \u001b[0mn\u001b[0m\u001b[0;34m=\u001b[0m \u001b[0mint\u001b[0m\u001b[0;34m(\u001b[0m\u001b[0minput\u001b[0m\u001b[0;34m(\u001b[0m\u001b[0;34m\"Enter the bill of medicine\"\u001b[0m\u001b[0;34m)\u001b[0m\u001b[0;34m)\u001b[0m\u001b[0;34m\u001b[0m\u001b[0;34m\u001b[0m\u001b[0m\n\u001b[0;32m----> 4\u001b[0;31m   \u001b[0mmedical_store\u001b[0m\u001b[0;34m(\u001b[0m\u001b[0mn\u001b[0m\u001b[0;34m)\u001b[0m\u001b[0;34m\u001b[0m\u001b[0;34m\u001b[0m\u001b[0m\n\u001b[0m\u001b[1;32m      5\u001b[0m   \u001b[0mprint\u001b[0m\u001b[0;34m(\u001b[0m\u001b[0;34m)\u001b[0m\u001b[0;34m\u001b[0m\u001b[0;34m\u001b[0m\u001b[0m\n\u001b[1;32m      6\u001b[0m \u001b[0;34m\u001b[0m\u001b[0m\n",
            "\u001b[0;31mNameError\u001b[0m: name 'medical_store' is not defined"
          ]
        }
      ],
      "source": [
        "for i in range(3):\n",
        "  a= input(\"Enter the name of medicine\")\n",
        "  n= int(input(\"Enter the bill of medicine\"))\n",
        "  medical_store(n)\n",
        "  print()\n",
        "\n",
        "\n"
      ]
    },
    {
      "cell_type": "markdown",
      "metadata": {
        "id": "Agn1YE_aFCJ1"
      },
      "source": [
        "day 6"
      ]
    },
    {
      "cell_type": "markdown",
      "metadata": {
        "id": "smw1KLpFFE11"
      },
      "source": [
        "string in python"
      ]
    },
    {
      "cell_type": "code",
      "execution_count": null,
      "metadata": {
        "id": "VyHX-wmKFGDT"
      },
      "outputs": [],
      "source": [
        "a =\"hello\"\n",
        "print(a)"
      ]
    },
    {
      "cell_type": "code",
      "execution_count": null,
      "metadata": {
        "id": "lWytNm4BFIbU"
      },
      "outputs": [],
      "source": [
        "b=\"a data analyst,gathered\"\n",
        "print(b)\n",
        "print(b(type))"
      ]
    },
    {
      "cell_type": "markdown",
      "metadata": {
        "id": "b5YCKEc5FVyy"
      },
      "source": [
        "indexing of string"
      ]
    },
    {
      "cell_type": "code",
      "execution_count": null,
      "metadata": {
        "colab": {
          "base_uri": "https://localhost:8080/"
        },
        "id": "KXsh5jrCFYdS",
        "outputId": "72976f49-4c32-4c52-ef92-3788c993c4cc"
      },
      "outputs": [
        {
          "name": "stdout",
          "output_type": "stream",
          "text": [
            "s\n",
            "n\n",
            "ow's\n",
            "how's\n",
            "ow's your study going on?\n",
            "?no gniog yduts ruoy s'woh\n"
          ]
        }
      ],
      "source": [
        "s = \"how's your studies going on?\"\n",
        "print(s[11])\n",
        "s = \"how's your study going on?\"\n",
        "print(s[-2])\n",
        "s = \"how's your study going on?\"\n",
        "print(s[1:5])\n",
        "s = \"how's your study going on?\"\n",
        "print(s[:5])\n",
        "s = \"how's your study going on?\"\n",
        "print(s[1:])\n",
        "s = \"how's your study going on?\"\n",
        "print(s[::-1])"
      ]
    },
    {
      "cell_type": "markdown",
      "metadata": {
        "id": "6weRtbgZRRxR"
      },
      "source": [
        "finding the lenght of functions"
      ]
    },
    {
      "cell_type": "code",
      "execution_count": null,
      "metadata": {
        "colab": {
          "base_uri": "https://localhost:8080/"
        },
        "id": "_sj0W4vFRWex",
        "outputId": "9ce816f1-1f79-48bc-c96d-2c7ac041ac5d"
      },
      "outputs": [
        {
          "name": "stdout",
          "output_type": "stream",
          "text": [
            "30\n"
          ]
        }
      ],
      "source": [
        "a = \"this is our day 7 python class\"\n",
        "print(len(a))"
      ]
    },
    {
      "cell_type": "code",
      "execution_count": null,
      "metadata": {
        "colab": {
          "base_uri": "https://localhost:8080/"
        },
        "id": "E1-bcvc_RiVo",
        "outputId": "dbbc6f17-3c51-4e10-c6d9-f74bd96168ba"
      },
      "outputs": [
        {
          "name": "stdout",
          "output_type": "stream",
          "text": [
            "9\n"
          ]
        }
      ],
      "source": [
        "b = \"Hi shruti\"\n",
        "print(len(b))"
      ]
    },
    {
      "cell_type": "markdown",
      "metadata": {
        "id": "HFur5ng-R3TU"
      },
      "source": [
        "upper method"
      ]
    },
    {
      "cell_type": "code",
      "execution_count": null,
      "metadata": {
        "colab": {
          "base_uri": "https://localhost:8080/"
        },
        "id": "umtzSJwTR_ar",
        "outputId": "b9296ef6-6f5b-43f5-904c-d94cf686e40e"
      },
      "outputs": [
        {
          "name": "stdout",
          "output_type": "stream",
          "text": [
            "HELLO HOW ARE YOU?\n"
          ]
        }
      ],
      "source": [
        "a = \"hello how are you?\"\n",
        "print(a.upper())"
      ]
    },
    {
      "cell_type": "markdown",
      "metadata": {
        "id": "WU-WgEWHSV7M"
      },
      "source": [
        "lower method"
      ]
    },
    {
      "cell_type": "code",
      "execution_count": null,
      "metadata": {
        "colab": {
          "base_uri": "https://localhost:8080/",
          "height": 158
        },
        "id": "XkEGKgFaSYNv",
        "outputId": "ee9c3a5f-6ae6-45a8-c2ff-1d00498ea703"
      },
      "outputs": [
        {
          "ename": "TypeError",
          "evalue": "str.lower() takes no arguments (1 given)",
          "output_type": "error",
          "traceback": [
            "\u001b[0;31m---------------------------------------------------------------------------\u001b[0m",
            "\u001b[0;31mTypeError\u001b[0m                                 Traceback (most recent call last)",
            "\u001b[0;32m<ipython-input-10-79af89d27415>\u001b[0m in \u001b[0;36m<cell line: 0>\u001b[0;34m()\u001b[0m\n\u001b[1;32m      1\u001b[0m \u001b[0ma\u001b[0m \u001b[0;34m=\u001b[0m \u001b[0;34m\"HELLO STUDENT\"\u001b[0m\u001b[0;34m\u001b[0m\u001b[0;34m\u001b[0m\u001b[0m\n\u001b[0;32m----> 2\u001b[0;31m \u001b[0mprint\u001b[0m\u001b[0;34m(\u001b[0m\u001b[0ma\u001b[0m\u001b[0;34m.\u001b[0m\u001b[0mlower\u001b[0m\u001b[0;34m(\u001b[0m\u001b[0ma\u001b[0m\u001b[0;34m)\u001b[0m\u001b[0;34m)\u001b[0m\u001b[0;34m\u001b[0m\u001b[0;34m\u001b[0m\u001b[0m\n\u001b[0m",
            "\u001b[0;31mTypeError\u001b[0m: str.lower() takes no arguments (1 given)"
          ]
        }
      ],
      "source": [
        "a = \"HELLO STUDENT\"\n",
        "print(a.lower(a))"
      ]
    },
    {
      "cell_type": "markdown",
      "metadata": {
        "id": "AVb0UXVaTRG9"
      },
      "source": [
        "Replace function"
      ]
    },
    {
      "cell_type": "code",
      "execution_count": null,
      "metadata": {
        "colab": {
          "base_uri": "https://localhost:8080/"
        },
        "id": "cAAW6uqITVHX",
        "outputId": "c8f4c467-a044-4605-a538-774951b02e2b"
      },
      "outputs": [
        {
          "name": "stdout",
          "output_type": "stream",
          "text": [
            "bye how are you?\n"
          ]
        }
      ],
      "source": [
        "a= \"hello how are you?\"\n",
        "print(a.replace(\"hello\", \"bye\"))"
      ]
    },
    {
      "cell_type": "code",
      "execution_count": null,
      "metadata": {
        "colab": {
          "base_uri": "https://localhost:8080/"
        },
        "id": "iD05s7jQTTxd",
        "outputId": "da372cb9-0c22-4652-b8c5-e0365e53f67b"
      },
      "outputs": [
        {
          "name": "stdout",
          "output_type": "stream",
          "text": [
            "hello student\n"
          ]
        }
      ],
      "source": [
        "b= \"hello world\"\n",
        "print(b.replace(\"world\",\"student\"))"
      ]
    },
    {
      "cell_type": "markdown",
      "metadata": {
        "id": "bgDTBd95U8ul"
      },
      "source": [
        "finding method"
      ]
    },
    {
      "cell_type": "code",
      "execution_count": null,
      "metadata": {
        "colab": {
          "base_uri": "https://localhost:8080/"
        },
        "id": "Dc1H6HeaVAib",
        "outputId": "dcf76c53-55fb-418d-dace-cdc15a510f68"
      },
      "outputs": [
        {
          "name": "stdout",
          "output_type": "stream",
          "text": [
            "7\n"
          ]
        }
      ],
      "source": [
        " a =\"python is great\"\n",
        " b = a.find(\"i\")\n",
        " print(b)"
      ]
    },
    {
      "cell_type": "markdown",
      "metadata": {
        "id": "RHrj8bo8ezSh"
      },
      "source": [
        "day 8"
      ]
    },
    {
      "cell_type": "markdown",
      "metadata": {
        "id": "Ca1kbqpNe_yU"
      },
      "source": [
        "list in python"
      ]
    },
    {
      "cell_type": "code",
      "execution_count": null,
      "metadata": {
        "colab": {
          "base_uri": "https://localhost:8080/"
        },
        "id": "1hUyTMV6fKrm",
        "outputId": "7a7c6ee8-8eb6-428f-cd74-fa38647bd20c"
      },
      "outputs": [
        {
          "name": "stdout",
          "output_type": "stream",
          "text": [
            "['apple,banana,grapes']\n",
            "<class 'list'>\n"
          ]
        }
      ],
      "source": [
        "mylist = [\"apple,banana,grapes\"]\n",
        "print(mylist)\n",
        "print(type(mylist))"
      ]
    },
    {
      "cell_type": "markdown",
      "metadata": {
        "id": "WBhK0WkXi5aK"
      },
      "source": [
        "allow duplicate"
      ]
    },
    {
      "cell_type": "code",
      "execution_count": null,
      "metadata": {
        "colab": {
          "base_uri": "https://localhost:8080/"
        },
        "id": "H9qYTVhBi8r6",
        "outputId": "c7cb1d38-da32-4438-d997-276e132ad13b"
      },
      "outputs": [
        {
          "name": "stdout",
          "output_type": "stream",
          "text": [
            "['apple', 'apple', 'banana', 'cherry', 'cherry', 'grapes']\n"
          ]
        }
      ],
      "source": [
        "mylist = [\"apple\",\"apple\" ,\"banana\",\"cherry\",\"cherry\",\"grapes\"]\n",
        "print(mylist)\n"
      ]
    },
    {
      "cell_type": "markdown",
      "metadata": {
        "id": "b1urLxnElbUw"
      },
      "source": [
        "data type"
      ]
    },
    {
      "cell_type": "code",
      "execution_count": null,
      "metadata": {
        "colab": {
          "base_uri": "https://localhost:8080/"
        },
        "id": "PMLKolZUlcdE",
        "outputId": "3eca32db-5779-43d3-bbd8-fcfbfb5c58a9"
      },
      "outputs": [
        {
          "name": "stdout",
          "output_type": "stream",
          "text": [
            "['apple', 'banana', 'grapes', 'cherry']\n",
            "[23, 24, 35]\n",
            "[True]\n",
            "[2.3, 34.3, 3.4]\n"
          ]
        }
      ],
      "source": [
        "list1 = [\"apple\",\"banana\", \"grapes\",\"cherry\"]\n",
        "list2 = [23,24,35]\n",
        "list3 = [True]\n",
        "list4 = [2.3,34.3,3.4]\n",
        "print(list1)\n",
        "print(list2)\n",
        "print(list3)\n",
        "print(list4)"
      ]
    },
    {
      "cell_type": "markdown",
      "metadata": {
        "id": "_xIrzynP4ZpQ"
      },
      "source": [
        "list length"
      ]
    },
    {
      "cell_type": "code",
      "execution_count": null,
      "metadata": {
        "colab": {
          "base_uri": "https://localhost:8080/"
        },
        "id": "pW6c7M-T4bVl",
        "outputId": "58cb0734-b1c3-4301-eff2-3117a12441a2"
      },
      "outputs": [
        {
          "name": "stdout",
          "output_type": "stream",
          "text": [
            "10\n"
          ]
        }
      ],
      "source": [
        "a = [12,-8,5,7,6,23,\"student\",\"hello\", \"true\" , \"false\"]\n",
        "print(len(a))"
      ]
    },
    {
      "cell_type": "code",
      "execution_count": null,
      "metadata": {
        "colab": {
          "base_uri": "https://localhost:8080/"
        },
        "id": "qUb9JDVT4x8o",
        "outputId": "fbadb00c-9002-4a87-c453-489c4d98b8db"
      },
      "outputs": [
        {
          "name": "stdout",
          "output_type": "stream",
          "text": [
            "7\n"
          ]
        }
      ],
      "source": [
        "b = [12,34,4,24,24,3,434]\n",
        "print(len(b))"
      ]
    },
    {
      "cell_type": "markdown",
      "metadata": {
        "id": "wjVAZ2zX5Oa-"
      },
      "source": [
        "Access items"
      ]
    },
    {
      "cell_type": "code",
      "execution_count": null,
      "metadata": {
        "colab": {
          "base_uri": "https://localhost:8080/"
        },
        "id": "4HPtsrrz5RZv",
        "outputId": "9a231a9e-e563-4f2b-9649-89b136ac9318"
      },
      "outputs": [
        {
          "name": "stdout",
          "output_type": "stream",
          "text": [
            "678\n"
          ]
        }
      ],
      "source": [
        "thislist = [12,34,3,23,56,678,44,3,4,5,5,663,3,2]\n",
        "print(thislist[5])"
      ]
    },
    {
      "cell_type": "code",
      "execution_count": null,
      "metadata": {
        "colab": {
          "base_uri": "https://localhost:8080/"
        },
        "id": "d0AYF8Hm5mbC",
        "outputId": "ca0b0565-ec25-4433-ff80-e826e65ef328"
      },
      "outputs": [
        {
          "name": "stdout",
          "output_type": "stream",
          "text": [
            "19\n"
          ]
        }
      ],
      "source": [
        "mylist = [12,15,16,17,18,19,20]\n",
        "print(mylist[5])"
      ]
    },
    {
      "cell_type": "code",
      "execution_count": null,
      "metadata": {
        "colab": {
          "base_uri": "https://localhost:8080/"
        },
        "id": "P8GxHrHg5w5P",
        "outputId": "03c53159-930b-4269-fe47-5fad88842faf"
      },
      "outputs": [
        {
          "name": "stdout",
          "output_type": "stream",
          "text": [
            "5.6\n"
          ]
        }
      ],
      "source": [
        "mylist = [6,53,8,8,54,5.6,34,35,90,-2]\n",
        "print(mylist[-5])"
      ]
    },
    {
      "cell_type": "markdown",
      "metadata": {
        "id": "QZY0aKo06qtS"
      },
      "source": [
        "slicing of list"
      ]
    },
    {
      "cell_type": "code",
      "execution_count": null,
      "metadata": {
        "colab": {
          "base_uri": "https://localhost:8080/"
        },
        "id": "AFWuRf8x6sGr",
        "outputId": "364d168b-2039-4bb7-e580-b13276500d39"
      },
      "outputs": [
        {
          "name": "stdout",
          "output_type": "stream",
          "text": [
            "[2, 4, 5, 6, 7, 89]\n"
          ]
        }
      ],
      "source": [
        "mylist = [2,4,5,6,7,89,9,0,1,2,3,45,5]\n",
        "print(mylist[0:6])"
      ]
    },
    {
      "cell_type": "code",
      "execution_count": null,
      "metadata": {
        "colab": {
          "base_uri": "https://localhost:8080/"
        },
        "id": "B6_sWG0NNUUZ",
        "outputId": "418f76d9-9d36-4c10-dafb-bb5a9ac4648d"
      },
      "outputs": [
        {
          "name": "stdout",
          "output_type": "stream",
          "text": [
            "[]\n"
          ]
        }
      ],
      "source": [
        "mylist = [3,6,9,21,24,27,30]\n",
        "print(mylist[6:-2])"
      ]
    },
    {
      "cell_type": "code",
      "execution_count": null,
      "metadata": {
        "colab": {
          "base_uri": "https://localhost:8080/"
        },
        "id": "o63dktfVNf5x",
        "outputId": "87d6a83f-b88d-48c6-c541-fda7e5a01af9"
      },
      "outputs": [
        {
          "name": "stdout",
          "output_type": "stream",
          "text": [
            "[3, 6, 3]\n"
          ]
        }
      ],
      "source": [
        "mylist = [3,4,5,6,7,6,3,2]\n",
        "print(mylist[0:12:3])"
      ]
    },
    {
      "cell_type": "markdown",
      "metadata": {
        "id": "PGcUdq8-PmKQ"
      },
      "source": [
        "#change items"
      ]
    },
    {
      "cell_type": "code",
      "execution_count": null,
      "metadata": {
        "colab": {
          "base_uri": "https://localhost:8080/"
        },
        "id": "LCIKSqPGPoCx",
        "outputId": "47621858-55f3-4779-9612-6f18f5bc484d"
      },
      "outputs": [
        {
          "name": "stdout",
          "output_type": "stream",
          "text": [
            "['strawberry', 'apple', 'grapes']\n"
          ]
        }
      ],
      "source": [
        "mylist = [\"banana\",\"apple\",\"grapes\"]\n",
        "mylist[0] = \"strawberry\"\n",
        "print(mylist)"
      ]
    },
    {
      "cell_type": "code",
      "execution_count": null,
      "metadata": {
        "colab": {
          "base_uri": "https://localhost:8080/"
        },
        "id": "NAcnnhV0QRFO",
        "outputId": "4d32f72d-f773-49ff-bd65-35da7c4a0be8"
      },
      "outputs": [
        {
          "name": "stdout",
          "output_type": "stream",
          "text": [
            "[12, 13, 14, 15, 61, 171, 8, 'students']\n"
          ]
        }
      ],
      "source": [
        "a = [12,13,14,15,61,171,8,11119]\n",
        "a[7] = \"students\"\n",
        "print(a)"
      ]
    },
    {
      "cell_type": "code",
      "execution_count": null,
      "metadata": {
        "colab": {
          "base_uri": "https://localhost:8080/"
        },
        "id": "2OuGVrbJQkYl",
        "outputId": "553ab2e8-82b2-4424-9d53-358e2bf01448"
      },
      "outputs": [
        {
          "name": "stdout",
          "output_type": "stream",
          "text": [
            "['books', 'pen', 13, 14, 15, 16, 17]\n"
          ]
        }
      ],
      "source": [
        "a = [12,13,14,15,16,17]\n",
        "a[0:1] = [\"books\" , \"pen\"]\n",
        "print(a)"
      ]
    },
    {
      "cell_type": "code",
      "execution_count": null,
      "metadata": {
        "colab": {
          "base_uri": "https://localhost:8080/"
        },
        "id": "NlWMVLo3RhB1",
        "outputId": "4a51b1b5-0751-43c3-b54b-0cf989614ecb"
      },
      "outputs": [
        {
          "name": "stdout",
          "output_type": "stream",
          "text": [
            "[12, 13, 14, 15, 16, 17, 21]\n"
          ]
        }
      ],
      "source": [
        "a = [12,13,14,15,16,17]\n",
        "a.append(21)\n",
        "print(a)"
      ]
    },
    {
      "cell_type": "code",
      "execution_count": null,
      "metadata": {
        "colab": {
          "base_uri": "https://localhost:8080/"
        },
        "id": "oJHQA4MySIGd",
        "outputId": "736e9676-c737-4a96-911f-0d32ce650ea1"
      },
      "outputs": [
        {
          "name": "stdout",
          "output_type": "stream",
          "text": [
            "[12, 13, 14, 15, 16]\n"
          ]
        }
      ],
      "source": [
        "a = [12,13,14,15,16,17]\n",
        "a.remove(17)\n",
        "print(a)"
      ]
    },
    {
      "cell_type": "code",
      "execution_count": null,
      "metadata": {
        "colab": {
          "base_uri": "https://localhost:8080/"
        },
        "id": "ENY1JteCSlRB",
        "outputId": "bda7338c-43c0-4993-b596-378e224b3966"
      },
      "outputs": [
        {
          "name": "stdout",
          "output_type": "stream",
          "text": [
            "[17, 16, 15, 14, 13, 12]\n"
          ]
        }
      ],
      "source": [
        "a = [12,13,14,15,16,17]\n",
        "a.reverse()\n",
        "print(a)\n"
      ]
    },
    {
      "cell_type": "code",
      "execution_count": null,
      "metadata": {
        "colab": {
          "base_uri": "https://localhost:8080/"
        },
        "id": "S1jf2LZeS5Ak",
        "outputId": "cc15838d-bb94-476e-f4ac-d84abbc4bebb"
      },
      "outputs": [
        {
          "name": "stdout",
          "output_type": "stream",
          "text": [
            "11\n",
            "the sum of a list is  12\n",
            "the sum of a list is  26\n",
            "the sum of a list is  41\n",
            "the sum of a list is  47\n",
            "the sum of a list is  53\n",
            "the sum of a list is  87\n",
            "the sum of a list is  1502\n",
            "the sum of a list is  1537\n",
            "the sum of a list is  1572\n",
            "the sum of a list is  1608\n",
            "the sum of a list is  2336\n"
          ]
        }
      ],
      "source": [
        "a = [12,14,15,6,6,34,1415,35,35,36,728,]\n",
        "print(len(a))\n",
        "b = 0\n",
        "for i in range(11):\n",
        "  b = b+a[i]\n",
        "  #i = i+i  #This line was causing an infinite loop.  If you need to increment i, increment it by 1\n",
        "  print(\"the sum of a list is \", b)\n",
        "\n",
        "\n",
        "\n"
      ]
    },
    {
      "cell_type": "markdown",
      "metadata": {
        "id": "gVePp0iCgNRL"
      },
      "source": [
        "multiply all the numbers of a list"
      ]
    },
    {
      "cell_type": "code",
      "execution_count": null,
      "metadata": {
        "colab": {
          "base_uri": "https://localhost:8080/"
        },
        "id": "IDHpnd-qgUYV",
        "outputId": "0d7b0d4b-77e1-468f-fea1-0b3d584ece03"
      },
      "outputs": [
        {
          "name": "stdout",
          "output_type": "stream",
          "text": [
            "the multiply of all the numbers is 3628800\n"
          ]
        }
      ],
      "source": [
        "a =[1,2,3,4,5,6,7,8,9,10]\n",
        "b =1\n",
        "for i in range(10):\n",
        "    b = b*a[i]\n",
        "print(\"the multiply of all the numbers is\", b )"
      ]
    },
    {
      "cell_type": "markdown",
      "metadata": {
        "id": "n9A-AjAuoIi9"
      },
      "source": [
        "tuples in python"
      ]
    },
    {
      "cell_type": "markdown",
      "metadata": {
        "id": "krgFsPd7oMwi"
      },
      "source": [
        "creating a tuple"
      ]
    },
    {
      "cell_type": "code",
      "execution_count": null,
      "metadata": {
        "colab": {
          "base_uri": "https://localhost:8080/"
        },
        "id": "k6SVBckNk3TH",
        "outputId": "0cb5012f-3c76-4da6-8406-6c9a39919870"
      },
      "outputs": [
        {
          "name": "stdout",
          "output_type": "stream",
          "text": [
            "(1, 2, 3)\n",
            "<class 'tuple'>\n"
          ]
        }
      ],
      "source": [
        "my_tuple =(1,2,3)\n",
        "print(my_tuple)\n",
        "print(type(my_tuple))"
      ]
    },
    {
      "cell_type": "markdown",
      "metadata": {
        "id": "BDi3IUYZoo-B"
      },
      "source": [
        "mixed data type"
      ]
    },
    {
      "cell_type": "code",
      "execution_count": null,
      "metadata": {
        "colab": {
          "base_uri": "https://localhost:8080/"
        },
        "id": "26_5TN2oosaq",
        "outputId": "0447b0cc-a9c0-48a1-afd1-02398a68f9cc"
      },
      "outputs": [
        {
          "name": "stdout",
          "output_type": "stream",
          "text": [
            "(1, 2, 'string', 3.2, (45+4j))\n",
            "<class 'tuple'>\n"
          ]
        }
      ],
      "source": [
        "my_tuple =(1,2,\"string\",3.2,45+4j)\n",
        "print(my_tuple)\n",
        "print(type(my_tuple))"
      ]
    },
    {
      "cell_type": "code",
      "execution_count": null,
      "metadata": {
        "colab": {
          "base_uri": "https://localhost:8080/"
        },
        "id": "rkoBO1mmpHiV",
        "outputId": "9ef2d454-7ae3-4449-8824-01d50755c07c"
      },
      "outputs": [
        {
          "name": "stdout",
          "output_type": "stream",
          "text": [
            "()\n",
            "<class 'tuple'>\n"
          ]
        }
      ],
      "source": [
        "my_tuple =()\n",
        "print(my_tuple)\n",
        "print(type(my_tuple))"
      ]
    },
    {
      "cell_type": "markdown",
      "metadata": {
        "id": "197Q8CZXpuoN"
      },
      "source": [
        "nested tuple"
      ]
    },
    {
      "cell_type": "code",
      "execution_count": null,
      "metadata": {
        "colab": {
          "base_uri": "https://localhost:8080/"
        },
        "id": "YzW97s0ZpaGd",
        "outputId": "70c10e21-1298-4732-ffe2-8c9ec089411b"
      },
      "outputs": [
        {
          "name": "stdout",
          "output_type": "stream",
          "text": [
            "('data', [1, 2, 3, 4, 5], (2, 3, 4))\n"
          ]
        }
      ],
      "source": [
        "my_tuple =(\"data\",[1,2,3,4,5],(2,3,4))\n",
        "print(my_tuple)"
      ]
    },
    {
      "cell_type": "markdown",
      "metadata": {
        "id": "aBsoov_Qp-WA"
      },
      "source": [
        "creating a tuple only one item"
      ]
    },
    {
      "cell_type": "code",
      "execution_count": null,
      "metadata": {
        "colab": {
          "base_uri": "https://localhost:8080/"
        },
        "id": "5UoCSoZwqCUR",
        "outputId": "31b32051-4b12-4f0f-b30d-c0008a9b0b1c"
      },
      "outputs": [
        {
          "name": "stdout",
          "output_type": "stream",
          "text": [
            "('hey there',)\n",
            "<class 'tuple'>\n"
          ]
        }
      ],
      "source": [
        "var1 = (\"hey there\",)\n",
        "print(var1)\n",
        "print(type(var1))"
      ]
    },
    {
      "cell_type": "markdown",
      "metadata": {
        "id": "apzsTEqvqj1U"
      },
      "source": [
        "tuple constructer"
      ]
    },
    {
      "cell_type": "code",
      "execution_count": null,
      "metadata": {
        "colab": {
          "base_uri": "https://localhost:8080/"
        },
        "id": "XsCNznZaqn6X",
        "outputId": "a1bdb623-4de5-4601-88e2-e6a6549a4cd1"
      },
      "outputs": [
        {
          "name": "stdout",
          "output_type": "stream",
          "text": [
            "('a', 'b', 'c')\n",
            "<class 'tuple'>\n"
          ]
        }
      ],
      "source": [
        "a =tuple((\"a\",\"b\",\"c\"))\n",
        "print(a)\n",
        "print(type(a))"
      ]
    },
    {
      "cell_type": "markdown",
      "metadata": {
        "id": "1jCgfMMirNT0"
      },
      "source": [
        "indexing"
      ]
    },
    {
      "cell_type": "code",
      "execution_count": null,
      "metadata": {
        "colab": {
          "base_uri": "https://localhost:8080/"
        },
        "id": "nSAzeazKrOXe",
        "outputId": "e2a4acf8-fee8-41e9-e67a-a0116dde4d14"
      },
      "outputs": [
        {
          "name": "stdout",
          "output_type": "stream",
          "text": [
            "87\n"
          ]
        }
      ],
      "source": [
        "a=(32,45,35,6,76,87,9,7,97)\n",
        "print(a[5])"
      ]
    },
    {
      "cell_type": "code",
      "execution_count": null,
      "metadata": {
        "colab": {
          "base_uri": "https://localhost:8080/"
        },
        "id": "TLm29j-Ermw-",
        "outputId": "d5d6896b-728f-4553-a3a7-c1c4109b916c"
      },
      "outputs": [
        {
          "name": "stdout",
          "output_type": "stream",
          "text": [
            "student\n"
          ]
        }
      ],
      "source": [
        "a=(32,45,35,6,76,87,9,7,97,\"hello\",\"student\")\n",
        "print(a[10])"
      ]
    },
    {
      "cell_type": "code",
      "execution_count": null,
      "metadata": {
        "colab": {
          "base_uri": "https://localhost:8080/"
        },
        "id": "BpuTdfKNsB6t",
        "outputId": "c0185089-6b0b-45cc-efa4-509638ec86f8"
      },
      "outputs": [
        {
          "name": "stdout",
          "output_type": "stream",
          "text": [
            "9\n"
          ]
        }
      ],
      "source": [
        "a=(32,45,35,6,76,87,9,7,97,\"hello\",\"student\")\n",
        "print(a[-5])"
      ]
    },
    {
      "cell_type": "markdown",
      "metadata": {
        "id": "ObbNKogEsTKx"
      },
      "source": [
        "slicing"
      ]
    },
    {
      "cell_type": "code",
      "execution_count": null,
      "metadata": {
        "colab": {
          "base_uri": "https://localhost:8080/"
        },
        "id": "0WFuE_KysT-Z",
        "outputId": "ca6f5535-f453-4fd8-b18d-0127f2555f54"
      },
      "outputs": [
        {
          "name": "stdout",
          "output_type": "stream",
          "text": [
            "(7, 97, 'hello')\n"
          ]
        }
      ],
      "source": [
        "a=(32,45,35,6,76,87,9,7,97,\"hello\",\"student\")\n",
        "print(a[7:10])"
      ]
    },
    {
      "cell_type": "code",
      "execution_count": null,
      "metadata": {
        "colab": {
          "base_uri": "https://localhost:8080/"
        },
        "id": "Tb7hBueZsZ6u",
        "outputId": "04845d38-3092-4a39-b764-11834c0b21f8"
      },
      "outputs": [
        {
          "name": "stdout",
          "output_type": "stream",
          "text": [
            "(32, 6, 9, 'hello')\n"
          ]
        }
      ],
      "source": [
        "a=(32,45,35,6,76,87,9,7,97,\"hello\",\"student\")\n",
        "print(a[::3])"
      ]
    },
    {
      "cell_type": "markdown",
      "metadata": {
        "id": "FPtEttRzswcX"
      },
      "source": [
        "how dcan we reverse tuple in python"
      ]
    },
    {
      "cell_type": "code",
      "execution_count": null,
      "metadata": {
        "colab": {
          "base_uri": "https://localhost:8080/"
        },
        "id": "_iKnHLVasmTB",
        "outputId": "bd0f7271-f1e2-4571-83db-2f9681b96522"
      },
      "outputs": [
        {
          "name": "stdout",
          "output_type": "stream",
          "text": [
            "('student', 'hello', 97, 7, 9, 87, 76, 6, 35, 45, 32)\n"
          ]
        }
      ],
      "source": [
        "a=(32,45,35,6,76,87,9,7,97,\"hello\",\"student\")\n",
        "print(a[::-1])"
      ]
    },
    {
      "cell_type": "code",
      "execution_count": null,
      "metadata": {
        "colab": {
          "base_uri": "https://localhost:8080/"
        },
        "id": "yNBi37FzslzM",
        "outputId": "8032c19c-2739-4eff-c15f-1b69350c77bd"
      },
      "outputs": [
        {
          "name": "stdout",
          "output_type": "stream",
          "text": [
            "(1, 2, 3, 4, 5, 6, 7, 8)\n",
            "(4, 5, 6, 7, 8)\n",
            "(1, 2, 3, 4)\n",
            "()\n"
          ]
        }
      ],
      "source": [
        "t =(1,2,3,4,5,6,7,8)\n",
        "print(t[::])\n",
        "print(t[3:])\n",
        "print(t[:4])\n",
        "print(t[-2:-5])"
      ]
    },
    {
      "cell_type": "code",
      "execution_count": null,
      "metadata": {
        "colab": {
          "base_uri": "https://localhost:8080/"
        },
        "id": "eQwiLFIYtrnL",
        "outputId": "f1543c5c-c412-442d-918f-731b1257a9cb"
      },
      "outputs": [
        {
          "name": "stdout",
          "output_type": "stream",
          "text": [
            "(1, 2, 3, 4, 5, 6, 7, 8, 22)\n"
          ]
        }
      ],
      "source": [
        "t =(1,2,3,4,5,6,7,8)\n",
        "y = list(t)\n",
        "y.append(22)\n",
        "t =tuple(y)\n",
        "print(t)"
      ]
    },
    {
      "cell_type": "code",
      "execution_count": null,
      "metadata": {
        "colab": {
          "base_uri": "https://localhost:8080/"
        },
        "id": "8DLuaeVSvBF5",
        "outputId": "f5aeaa4d-c915-4c7c-993a-e6cd72d2feae"
      },
      "outputs": [
        {
          "name": "stdout",
          "output_type": "stream",
          "text": [
            "(1, 2, 3, 4, 5, 6, 7)\n"
          ]
        }
      ],
      "source": [
        " t =(1,2,3,4,5,6,7,8)\n",
        "y = list(t)\n",
        "y.remove(8)\n",
        "t =tuple(y)\n",
        "print(t)"
      ]
    },
    {
      "cell_type": "markdown",
      "metadata": {
        "id": "osI-TqUKwYFE"
      },
      "source": [
        "\n",
        "delete function\n",
        "```\n",
        "# This is formatted as code\n",
        "```\n",
        "\n"
      ]
    },
    {
      "cell_type": "code",
      "execution_count": null,
      "metadata": {
        "colab": {
          "base_uri": "https://localhost:8080/",
          "height": 176
        },
        "id": "j3vZo464vw_W",
        "outputId": "f2ae396f-2e33-4ff1-cf1d-4f8301f1accd"
      },
      "outputs": [
        {
          "ename": "NameError",
          "evalue": "name 't' is not defined",
          "output_type": "error",
          "traceback": [
            "\u001b[0;31m---------------------------------------------------------------------------\u001b[0m",
            "\u001b[0;31mNameError\u001b[0m                                 Traceback (most recent call last)",
            "\u001b[0;32m<ipython-input-1-5a67897a74a4>\u001b[0m in \u001b[0;36m<cell line: 0>\u001b[0;34m()\u001b[0m\n\u001b[1;32m      1\u001b[0m \u001b[0mt\u001b[0m \u001b[0;34m=\u001b[0m\u001b[0;34m(\u001b[0m\u001b[0;36m1\u001b[0m\u001b[0;34m,\u001b[0m\u001b[0;36m2\u001b[0m\u001b[0;34m,\u001b[0m\u001b[0;36m3\u001b[0m\u001b[0;34m,\u001b[0m\u001b[0;36m4\u001b[0m\u001b[0;34m,\u001b[0m\u001b[0;36m5\u001b[0m\u001b[0;34m,\u001b[0m\u001b[0;36m6\u001b[0m\u001b[0;34m,\u001b[0m\u001b[0;36m7\u001b[0m\u001b[0;34m,\u001b[0m\u001b[0;36m8\u001b[0m\u001b[0;34m)\u001b[0m\u001b[0;34m\u001b[0m\u001b[0;34m\u001b[0m\u001b[0m\n\u001b[1;32m      2\u001b[0m \u001b[0;32mdel\u001b[0m \u001b[0mt\u001b[0m\u001b[0;34m\u001b[0m\u001b[0;34m\u001b[0m\u001b[0m\n\u001b[0;32m----> 3\u001b[0;31m \u001b[0mprint\u001b[0m\u001b[0;34m(\u001b[0m\u001b[0mt\u001b[0m\u001b[0;34m)\u001b[0m\u001b[0;34m\u001b[0m\u001b[0;34m\u001b[0m\u001b[0m\n\u001b[0m",
            "\u001b[0;31mNameError\u001b[0m: name 't' is not defined"
          ]
        }
      ],
      "source": [
        "t =(1,2,3,4,5,6,7,8)\n",
        "del t\n",
        "print(t)"
      ]
    },
    {
      "cell_type": "markdown",
      "metadata": {
        "id": "FiqiB7otwxxV"
      },
      "source": [
        "for loop"
      ]
    },
    {
      "cell_type": "code",
      "execution_count": null,
      "metadata": {
        "colab": {
          "base_uri": "https://localhost:8080/",
          "height": 106
        },
        "id": "CCFPzab5wrlq",
        "outputId": "876fc1fd-a8f3-4ccc-f321-80711d1f00bd"
      },
      "outputs": [
        {
          "ename": "IndentationError",
          "evalue": "expected an indented block after 'for' statement on line 2 (<ipython-input-45-c6083895d3b4>, line 3)",
          "output_type": "error",
          "traceback": [
            "\u001b[0;36m  File \u001b[0;32m\"<ipython-input-45-c6083895d3b4>\"\u001b[0;36m, line \u001b[0;32m3\u001b[0m\n\u001b[0;31m    print(a)\u001b[0m\n\u001b[0m    ^\u001b[0m\n\u001b[0;31mIndentationError\u001b[0m\u001b[0;31m:\u001b[0m expected an indented block after 'for' statement on line 2\n"
          ]
        }
      ],
      "source": [
        "thistuple = (\"a\",\"V\",\"d\")\n",
        "for a in thistuple:\n",
        "print(a)"
      ]
    },
    {
      "cell_type": "markdown",
      "metadata": {
        "id": "K2WHgfwMxR0I"
      },
      "source": [
        "join two tuple"
      ]
    },
    {
      "cell_type": "code",
      "execution_count": null,
      "metadata": {
        "colab": {
          "base_uri": "https://localhost:8080/"
        },
        "id": "RWqw8ycnxA0-",
        "outputId": "486ef6b4-b8c6-43b1-d7e1-e3afc328783b"
      },
      "outputs": [
        {
          "name": "stdout",
          "output_type": "stream",
          "text": [
            "('hello', 'student', 1, 3, 2, 3)\n"
          ]
        }
      ],
      "source": [
        "tuple1 =(\"hello\",\"student\")\n",
        "tuple2 =(1,3,2,3)\n",
        "tuple3 =(tuple1 + tuple2)\n",
        "print(tuple3)"
      ]
    },
    {
      "cell_type": "markdown",
      "metadata": {
        "id": "_1ZXje_mclUR"
      },
      "source": [
        "multiply tuple\n",
        "\n",
        "```\n",
        "# This is formatted as code\n",
        "```\n",
        "\n"
      ]
    },
    {
      "cell_type": "code",
      "execution_count": null,
      "metadata": {
        "colab": {
          "base_uri": "https://localhost:8080/"
        },
        "id": "8SoX0mPgceCx",
        "outputId": "60d2bcd7-0501-4b90-e028-83fed606da00"
      },
      "outputs": [
        {
          "name": "stdout",
          "output_type": "stream",
          "text": [
            "('apple', 'tamato', 'data', 'apple', 'tamato', 'data', 'apple', 'tamato', 'data', 'apple', 'tamato', 'data')\n"
          ]
        }
      ],
      "source": [
        "a =\"apple\",\"tamato\",\"data\"\n",
        "b =a*4\n",
        "print(b)"
      ]
    },
    {
      "cell_type": "code",
      "execution_count": null,
      "metadata": {
        "colab": {
          "base_uri": "https://localhost:8080/"
        },
        "id": "OpYEd31Dc0En",
        "outputId": "69bdf632-aaac-4224-a5c0-edaa02852c6e"
      },
      "outputs": [
        {
          "name": "stdout",
          "output_type": "stream",
          "text": [
            "(1, 2, 3, 4, 1, 2, 3, 4)\n"
          ]
        }
      ],
      "source": [
        "t =(1,2,3,4)\n",
        "print(t*2)"
      ]
    },
    {
      "cell_type": "code",
      "execution_count": null,
      "metadata": {
        "colab": {
          "base_uri": "https://localhost:8080/"
        },
        "id": "a_Xj2z8zeNy2",
        "outputId": "186261ac-d30f-4882-93a0-4d79ed139ad9"
      },
      "outputs": [
        {
          "name": "stdout",
          "output_type": "stream",
          "text": [
            "(1, 2, 3, 4, 1, 2, 3, 4)\n"
          ]
        }
      ],
      "source": [
        "t =(1,2,3,4)\n",
        "print(t*2)"
      ]
    },
    {
      "cell_type": "code",
      "execution_count": null,
      "metadata": {
        "colab": {
          "base_uri": "https://localhost:8080/"
        },
        "id": "GfcMyD4ZeVm2",
        "outputId": "6bdbbb5b-5339-45ae-dfa8-114ae72b64b4"
      },
      "outputs": [
        {
          "name": "stdout",
          "output_type": "stream",
          "text": [
            "(1, 2, 3, 4, 1, 2, 3, 4, 1, 2, 3, 4)\n"
          ]
        }
      ],
      "source": [
        "t =(1,2,3,4)\n",
        "print(t+t+t)"
      ]
    },
    {
      "cell_type": "code",
      "execution_count": null,
      "metadata": {
        "colab": {
          "base_uri": "https://localhost:8080/"
        },
        "id": "vm9_DbEKeceR",
        "outputId": "c10f2b8c-a8db-45ca-de30-b25d86928d82"
      },
      "outputs": [
        {
          "name": "stdout",
          "output_type": "stream",
          "text": [
            "(1, 2, 3, 4, 1, 2, 3, 4)\n"
          ]
        }
      ],
      "source": [
        "t =(1,2,3,4)\n",
        "print(t+t)"
      ]
    },
    {
      "cell_type": "code",
      "execution_count": null,
      "metadata": {
        "colab": {
          "base_uri": "https://localhost:8080/"
        },
        "id": "_anBlMCMeiVU",
        "outputId": "d0379dc6-c605-48f8-cde2-358b0db64fff"
      },
      "outputs": [
        {
          "name": "stdout",
          "output_type": "stream",
          "text": [
            "4\n"
          ]
        }
      ],
      "source": [
        "t =(1,2,3,4)\n",
        "print(len(t))"
      ]
    },
    {
      "cell_type": "markdown",
      "metadata": {
        "id": "OQTC3huLe800"
      },
      "source": [
        "write a program,to take 5 input from the user and store it in a tuple"
      ]
    },
    {
      "cell_type": "code",
      "execution_count": null,
      "metadata": {
        "colab": {
          "background_save": true,
          "base_uri": "https://localhost:8080/"
        },
        "id": "OtocAqa1epdv",
        "outputId": "c163ba5c-b468-4a68-9174-41f8660b424a"
      },
      "outputs": [
        {
          "name": "stdout",
          "output_type": "stream",
          "text": [
            "(20,)\n",
            "(20, 12)\n",
            "(20, 12, 234)\n",
            "(20, 12, 234, 34)\n"
          ]
        }
      ],
      "source": [
        "t =()\n",
        "i =0\n",
        "while i<=5:\n",
        "  five =int(input(\"Enter the values please\"))\n",
        "  t = t +(five,)\n",
        "  i = i+1\n",
        "  print(t)"
      ]
    },
    {
      "cell_type": "code",
      "execution_count": null,
      "metadata": {
        "id": "ttHxTCP_iYDp"
      },
      "outputs": [],
      "source": [
        "creating a dictionary"
      ]
    },
    {
      "cell_type": "code",
      "execution_count": null,
      "metadata": {
        "id": "smi_-9DqmDcx"
      },
      "outputs": [],
      "source": [
        "a ={\n",
        "    \"ID\":\"SHRUTI\",\n",
        "    \"abc123\":\"isitdictionary\",\n",
        "    \"year\":1990\n",
        "}\n",
        "print(a)\n",
        "print(type(a))"
      ]
    },
    {
      "cell_type": "code",
      "execution_count": null,
      "metadata": {
        "id": "Gy2PoqZWmIhs",
        "colab": {
          "base_uri": "https://localhost:8080/"
        },
        "outputId": "08b29860-d202-41af-f6a2-797c53dd89c0"
      },
      "outputs": [
        {
          "output_type": "stream",
          "name": "stdout",
          "text": [
            "isitdictionary\n"
          ]
        }
      ],
      "source": [
        "a ={\n",
        "    \"ID\":\"SHRUTI\",\n",
        "    \"abc123\":\"isitdictionary\",\n",
        "    \"year\":1990\n",
        "}\n",
        "print(a[\"abc123\"])"
      ]
    },
    {
      "cell_type": "code",
      "execution_count": null,
      "metadata": {
        "id": "iEAIeFt4m7T0",
        "colab": {
          "base_uri": "https://localhost:8080/",
          "height": 106
        },
        "outputId": "74d20fe1-3a41-4e77-bff3-900658f9d63f"
      },
      "outputs": [
        {
          "output_type": "error",
          "ename": "IndentationError",
          "evalue": "unexpected indent (<ipython-input-11-71a4d00d0d75>, line 5)",
          "traceback": [
            "\u001b[0;36m  File \u001b[0;32m\"<ipython-input-11-71a4d00d0d75>\"\u001b[0;36m, line \u001b[0;32m5\u001b[0m\n\u001b[0;31m    print(a)\u001b[0m\n\u001b[0m    ^\u001b[0m\n\u001b[0;31mIndentationError\u001b[0m\u001b[0;31m:\u001b[0m unexpected indent\n"
          ]
        }
      ],
      "source": [
        "a ={\"name\":\"shruti\",\n",
        "    \"age\":\"21\",\n",
        "    \"country\":\"India\"}\n",
        "a.update({\"qualification\":\"BCA\"})\n",
        "  print(a)\n"
      ]
    },
    {
      "cell_type": "code",
      "source": [
        "a = {\"name\":\"shruti\",\n",
        "    \"age\":\"21\",\n",
        "    \"country\":\"India\"}\n",
        "    a.pop(\"age\")\n",
        "    print(a)"
      ],
      "metadata": {
        "colab": {
          "base_uri": "https://localhost:8080/",
          "height": 106
        },
        "id": "BvLYD5clvCjM",
        "outputId": "5c410208-57c9-4b70-adfe-f11ec9721e82"
      },
      "execution_count": null,
      "outputs": [
        {
          "output_type": "error",
          "ename": "IndentationError",
          "evalue": "unexpected indent (<ipython-input-13-9ffd10cf7d5b>, line 4)",
          "traceback": [
            "\u001b[0;36m  File \u001b[0;32m\"<ipython-input-13-9ffd10cf7d5b>\"\u001b[0;36m, line \u001b[0;32m4\u001b[0m\n\u001b[0;31m    a.pop(\"age\")\u001b[0m\n\u001b[0m    ^\u001b[0m\n\u001b[0;31mIndentationError\u001b[0m\u001b[0;31m:\u001b[0m unexpected indent\n"
          ]
        }
      ]
    },
    {
      "cell_type": "code",
      "source": [
        "a {\"age\":\"21\"}\n",
        "del a\n",
        "print(a)"
      ],
      "metadata": {
        "colab": {
          "base_uri": "https://localhost:8080/",
          "height": 106
        },
        "id": "qrdprT00wBNJ",
        "outputId": "12468359-eb75-4ac4-e540-4200f740f8f7"
      },
      "execution_count": null,
      "outputs": [
        {
          "output_type": "error",
          "ename": "SyntaxError",
          "evalue": "invalid syntax (<ipython-input-15-6c79846a762c>, line 1)",
          "traceback": [
            "\u001b[0;36m  File \u001b[0;32m\"<ipython-input-15-6c79846a762c>\"\u001b[0;36m, line \u001b[0;32m1\u001b[0m\n\u001b[0;31m    a {\"age\":\"21\"}\u001b[0m\n\u001b[0m      ^\u001b[0m\n\u001b[0;31mSyntaxError\u001b[0m\u001b[0;31m:\u001b[0m invalid syntax\n"
          ]
        }
      ]
    },
    {
      "cell_type": "code",
      "source": [
        "a {\"print\":\"dictinary\",\n",
        "   \"age\":\"21\"}\n",
        "   a.clear()\n",
        "   print(a)\n",
        "   print(type(a))"
      ],
      "metadata": {
        "colab": {
          "base_uri": "https://localhost:8080/",
          "height": 106
        },
        "id": "Qa_tyEHmwhYb",
        "outputId": "61c4eaac-5751-4bc3-b901-13902aae32e3"
      },
      "execution_count": null,
      "outputs": [
        {
          "output_type": "error",
          "ename": "SyntaxError",
          "evalue": "invalid syntax (<ipython-input-16-e17a28864d45>, line 1)",
          "traceback": [
            "\u001b[0;36m  File \u001b[0;32m\"<ipython-input-16-e17a28864d45>\"\u001b[0;36m, line \u001b[0;32m1\u001b[0m\n\u001b[0;31m    a {\"print\":\"dictinary\",\u001b[0m\n\u001b[0m      ^\u001b[0m\n\u001b[0;31mSyntaxError\u001b[0m\u001b[0;31m:\u001b[0m invalid syntax\n"
          ]
        }
      ]
    },
    {
      "cell_type": "code",
      "source": [
        "dict1 = {1:10,2:10}\n",
        "dict2 = {3:10,4:10}\n",
        "dict3 = {4:10,5:10}\n",
        "dict4 = {}\n",
        "for d in(dict1,dict2,dict3):dict4.update(d)\n",
        "print(dict4)"
      ],
      "metadata": {
        "colab": {
          "base_uri": "https://localhost:8080/"
        },
        "id": "nU8B9bIzw8YG",
        "outputId": "9c2fe0ce-c36e-4d24-bb85-788d9058a8fe"
      },
      "execution_count": null,
      "outputs": [
        {
          "output_type": "stream",
          "name": "stdout",
          "text": [
            "{1: 10, 2: 10, 3: 10, 4: 10, 5: 10}\n"
          ]
        }
      ]
    },
    {
      "cell_type": "code",
      "source": [
        "dict1 ={1:1}\n",
        "dict2 = {2:4}\n",
        "dict3 ={3:9}\n",
        "dict4 ={4:16}\n",
        "dict5 ={}\n",
        "for d in (dict1,dict2,dict3,dict4):dict5.update(d)\n",
        "print(dict5)"
      ],
      "metadata": {
        "colab": {
          "base_uri": "https://localhost:8080/"
        },
        "id": "ZUOxEsgJy6Q7",
        "outputId": "903a74ed-7fb0-4177-d5e2-cdc98a786d97"
      },
      "execution_count": null,
      "outputs": [
        {
          "output_type": "stream",
          "name": "stdout",
          "text": [
            "{1: 1, 2: 4, 3: 9, 4: 16}\n"
          ]
        }
      ]
    },
    {
      "cell_type": "code",
      "source": [
        "d = dict()\n",
        "for x in range(1,16):\n",
        "    d[x] = x**2\n",
        "print(d)"
      ],
      "metadata": {
        "colab": {
          "base_uri": "https://localhost:8080/"
        },
        "id": "T2FLB-0yzx5x",
        "outputId": "703704f6-cb37-460c-e5db-9c083a148a1a"
      },
      "execution_count": null,
      "outputs": [
        {
          "output_type": "stream",
          "name": "stdout",
          "text": [
            "{1: 1, 2: 4, 3: 9, 4: 16, 5: 25, 6: 36, 7: 49, 8: 64, 9: 81, 10: 100, 11: 121, 12: 144, 13: 169, 14: 196, 15: 225}\n"
          ]
        }
      ]
    },
    {
      "cell_type": "code",
      "source": [
        "d = dict()\n",
        "for x in range(2,21):\n",
        "  d[x] = x**2\n",
        "  print(d)"
      ],
      "metadata": {
        "colab": {
          "base_uri": "https://localhost:8080/"
        },
        "id": "qEf7hRbb1CPa",
        "outputId": "55fde087-505a-4f75-cb19-d2383ed1163c"
      },
      "execution_count": null,
      "outputs": [
        {
          "output_type": "stream",
          "name": "stdout",
          "text": [
            "{2: 4}\n",
            "{2: 4, 3: 9}\n",
            "{2: 4, 3: 9, 4: 16}\n",
            "{2: 4, 3: 9, 4: 16, 5: 25}\n",
            "{2: 4, 3: 9, 4: 16, 5: 25, 6: 36}\n",
            "{2: 4, 3: 9, 4: 16, 5: 25, 6: 36, 7: 49}\n",
            "{2: 4, 3: 9, 4: 16, 5: 25, 6: 36, 7: 49, 8: 64}\n",
            "{2: 4, 3: 9, 4: 16, 5: 25, 6: 36, 7: 49, 8: 64, 9: 81}\n",
            "{2: 4, 3: 9, 4: 16, 5: 25, 6: 36, 7: 49, 8: 64, 9: 81, 10: 100}\n",
            "{2: 4, 3: 9, 4: 16, 5: 25, 6: 36, 7: 49, 8: 64, 9: 81, 10: 100, 11: 121}\n",
            "{2: 4, 3: 9, 4: 16, 5: 25, 6: 36, 7: 49, 8: 64, 9: 81, 10: 100, 11: 121, 12: 144}\n",
            "{2: 4, 3: 9, 4: 16, 5: 25, 6: 36, 7: 49, 8: 64, 9: 81, 10: 100, 11: 121, 12: 144, 13: 169}\n",
            "{2: 4, 3: 9, 4: 16, 5: 25, 6: 36, 7: 49, 8: 64, 9: 81, 10: 100, 11: 121, 12: 144, 13: 169, 14: 196}\n",
            "{2: 4, 3: 9, 4: 16, 5: 25, 6: 36, 7: 49, 8: 64, 9: 81, 10: 100, 11: 121, 12: 144, 13: 169, 14: 196, 15: 225}\n",
            "{2: 4, 3: 9, 4: 16, 5: 25, 6: 36, 7: 49, 8: 64, 9: 81, 10: 100, 11: 121, 12: 144, 13: 169, 14: 196, 15: 225, 16: 256}\n",
            "{2: 4, 3: 9, 4: 16, 5: 25, 6: 36, 7: 49, 8: 64, 9: 81, 10: 100, 11: 121, 12: 144, 13: 169, 14: 196, 15: 225, 16: 256, 17: 289}\n",
            "{2: 4, 3: 9, 4: 16, 5: 25, 6: 36, 7: 49, 8: 64, 9: 81, 10: 100, 11: 121, 12: 144, 13: 169, 14: 196, 15: 225, 16: 256, 17: 289, 18: 324}\n",
            "{2: 4, 3: 9, 4: 16, 5: 25, 6: 36, 7: 49, 8: 64, 9: 81, 10: 100, 11: 121, 12: 144, 13: 169, 14: 196, 15: 225, 16: 256, 17: 289, 18: 324, 19: 361}\n",
            "{2: 4, 3: 9, 4: 16, 5: 25, 6: 36, 7: 49, 8: 64, 9: 81, 10: 100, 11: 121, 12: 144, 13: 169, 14: 196, 15: 225, 16: 256, 17: 289, 18: 324, 19: 361, 20: 400}\n"
          ]
        }
      ]
    },
    {
      "cell_type": "markdown",
      "source": [
        "sets"
      ],
      "metadata": {
        "id": "0OUKt-cfvgr_"
      }
    },
    {
      "cell_type": "code",
      "source": [
        "a = {\"animal\",\"cat\",\"dog\",\"tiger\"}\n",
        "print(a)\n",
        "print(type(a))"
      ],
      "metadata": {
        "colab": {
          "base_uri": "https://localhost:8080/"
        },
        "id": "PLEcnBWAvfEt",
        "outputId": "ba1e701e-4b84-4b39-b337-13590efc0941"
      },
      "execution_count": null,
      "outputs": [
        {
          "output_type": "stream",
          "name": "stdout",
          "text": [
            "{'cat', 'tiger', 'dog', 'animal'}\n",
            "<class 'set'>\n"
          ]
        }
      ]
    },
    {
      "cell_type": "markdown",
      "source": [
        "set items are unordered"
      ],
      "metadata": {
        "id": "U98KNdgDv2Qv"
      }
    },
    {
      "cell_type": "code",
      "source": [
        "a = {\"animal\",\"cat\",\"dog\",\"tiger\"}\n",
        "print(a[0])"
      ],
      "metadata": {
        "colab": {
          "base_uri": "https://localhost:8080/",
          "height": 158
        },
        "id": "uqhNcl8U1hSd",
        "outputId": "643f1873-57d3-4c0e-b5a7-7be94e07e280"
      },
      "execution_count": null,
      "outputs": [
        {
          "output_type": "error",
          "ename": "TypeError",
          "evalue": "'set' object is not subscriptable",
          "traceback": [
            "\u001b[0;31m---------------------------------------------------------------------------\u001b[0m",
            "\u001b[0;31mTypeError\u001b[0m                                 Traceback (most recent call last)",
            "\u001b[0;32m<ipython-input-3-713cd51338d7>\u001b[0m in \u001b[0;36m<cell line: 0>\u001b[0;34m()\u001b[0m\n\u001b[1;32m      1\u001b[0m \u001b[0ma\u001b[0m \u001b[0;34m=\u001b[0m \u001b[0;34m{\u001b[0m\u001b[0;34m\"animal\"\u001b[0m\u001b[0;34m,\u001b[0m\u001b[0;34m\"cat\"\u001b[0m\u001b[0;34m,\u001b[0m\u001b[0;34m\"dog\"\u001b[0m\u001b[0;34m,\u001b[0m\u001b[0;34m\"tiger\"\u001b[0m\u001b[0;34m}\u001b[0m\u001b[0;34m\u001b[0m\u001b[0;34m\u001b[0m\u001b[0m\n\u001b[0;32m----> 2\u001b[0;31m \u001b[0mprint\u001b[0m\u001b[0;34m(\u001b[0m\u001b[0ma\u001b[0m\u001b[0;34m[\u001b[0m\u001b[0;36m0\u001b[0m\u001b[0;34m]\u001b[0m\u001b[0;34m)\u001b[0m\u001b[0;34m\u001b[0m\u001b[0;34m\u001b[0m\u001b[0m\n\u001b[0m",
            "\u001b[0;31mTypeError\u001b[0m: 'set' object is not subscriptable"
          ]
        }
      ]
    },
    {
      "cell_type": "markdown",
      "source": [
        "duplicates are allowed"
      ],
      "metadata": {
        "id": "oqa5FdZHwFWz"
      }
    },
    {
      "cell_type": "code",
      "source": [
        "a = {\"animal\",\"cat\",\"dog\",\"tiger\",\"tiger\",\"animal\",\"cat\",\"dog\"}\n",
        "print(a)\n"
      ],
      "metadata": {
        "colab": {
          "base_uri": "https://localhost:8080/"
        },
        "id": "gBYOBiHnwOWe",
        "outputId": "838863c5-5882-4c34-80c3-b2af362ac92a"
      },
      "execution_count": null,
      "outputs": [
        {
          "output_type": "stream",
          "name": "stdout",
          "text": [
            "{'cat', 'tiger', 'dog', 'animal'}\n"
          ]
        }
      ]
    },
    {
      "cell_type": "markdown",
      "source": [
        "true and 1 is considered as a same value"
      ],
      "metadata": {
        "id": "aySWC_3rv1la"
      }
    },
    {
      "cell_type": "code",
      "source": [],
      "metadata": {
        "id": "_Cj7fGwAwYhd"
      },
      "execution_count": null,
      "outputs": []
    },
    {
      "cell_type": "code",
      "source": [
        "a = {\"animal\",\"cat\",\"dog\",\"tiger\",\"tiger\",\"1\", \"True\" }\n",
        "print(a)"
      ],
      "metadata": {
        "colab": {
          "base_uri": "https://localhost:8080/"
        },
        "id": "mAEs43JawWu6",
        "outputId": "a12b4f12-e91e-4b33-e188-8ff31432a15d"
      },
      "execution_count": null,
      "outputs": [
        {
          "output_type": "stream",
          "name": "stdout",
          "text": [
            "{'tiger', '1', 'dog', 'animal', 'cat', 'True'}\n"
          ]
        }
      ]
    },
    {
      "cell_type": "code",
      "source": [
        "get the length of the set"
      ],
      "metadata": {
        "id": "7p_Z-zwYwVMN"
      },
      "execution_count": null,
      "outputs": []
    },
    {
      "cell_type": "code",
      "source": [
        "a = {\"animal\",\"cat\",\"dog\",\"dog\",\"tiger\",\"tiger\",\"1\", \"True\",\"animal\"}\n",
        "print(len(a))"
      ],
      "metadata": {
        "colab": {
          "base_uri": "https://localhost:8080/"
        },
        "id": "H5b7dSI4wdKG",
        "outputId": "8bb2f20f-1dca-444a-80ea-31158399aaee"
      },
      "execution_count": null,
      "outputs": [
        {
          "output_type": "stream",
          "name": "stdout",
          "text": [
            "6\n"
          ]
        }
      ]
    },
    {
      "cell_type": "code",
      "source": [
        "set items #data type"
      ],
      "metadata": {
        "id": "wuNbmhRKwcsS"
      },
      "execution_count": null,
      "outputs": []
    },
    {
      "cell_type": "code",
      "source": [
        " x1 ={1,2,3,4}\n",
        " x2 ={1.2,3.2,43.3}\n",
        " x3 ={\"a\",\"b\",\"c\"}\n",
        " x4 ={True,False}\n",
        " print(x1)\n",
        " print(x2)\n",
        " print(x3)\n",
        " print(x4)"
      ],
      "metadata": {
        "colab": {
          "base_uri": "https://localhost:8080/"
        },
        "id": "GyX97he0xyFY",
        "outputId": "0c773429-fe29-43c1-903b-3de668216069"
      },
      "execution_count": null,
      "outputs": [
        {
          "output_type": "stream",
          "name": "stdout",
          "text": [
            "{1, 2, 3, 4}\n",
            "{1.2, 3.2, 43.3}\n",
            "{'a', 'b', 'c'}\n",
            "{False, True}\n"
          ]
        }
      ]
    },
    {
      "cell_type": "code",
      "source": [
        "n ={1,2,3,3.4,6+5j},\"apple\",\"mango\"\n",
        "print(n)\n",
        "print(type(n))"
      ],
      "metadata": {
        "colab": {
          "base_uri": "https://localhost:8080/"
        },
        "id": "jDeWf_x8yOrm",
        "outputId": "2acc83ae-dbda-423a-848f-0012efae50b8"
      },
      "execution_count": null,
      "outputs": [
        {
          "output_type": "stream",
          "name": "stdout",
          "text": [
            "({1, 2, 3, 3.4, (6+5j)}, 'apple', 'mango')\n",
            "<class 'tuple'>\n"
          ]
        }
      ]
    },
    {
      "cell_type": "code",
      "source": [
        "x ={[1,2,3,4,4,5,6,]}\n",
        "print(x)"
      ],
      "metadata": {
        "colab": {
          "base_uri": "https://localhost:8080/",
          "height": 158
        },
        "id": "hob4b1c4Y2XQ",
        "outputId": "668cae29-7311-4a94-c696-dbc5f8260e24"
      },
      "execution_count": null,
      "outputs": [
        {
          "output_type": "error",
          "ename": "TypeError",
          "evalue": "unhashable type: 'list'",
          "traceback": [
            "\u001b[0;31m---------------------------------------------------------------------------\u001b[0m",
            "\u001b[0;31mTypeError\u001b[0m                                 Traceback (most recent call last)",
            "\u001b[0;32m<ipython-input-4-abb1cf7ae186>\u001b[0m in \u001b[0;36m<cell line: 0>\u001b[0;34m()\u001b[0m\n\u001b[0;32m----> 1\u001b[0;31m \u001b[0mx\u001b[0m \u001b[0;34m=\u001b[0m\u001b[0;34m{\u001b[0m\u001b[0;34m[\u001b[0m\u001b[0;36m1\u001b[0m\u001b[0;34m,\u001b[0m\u001b[0;36m2\u001b[0m\u001b[0;34m,\u001b[0m\u001b[0;36m3\u001b[0m\u001b[0;34m,\u001b[0m\u001b[0;36m4\u001b[0m\u001b[0;34m,\u001b[0m\u001b[0;36m4\u001b[0m\u001b[0;34m,\u001b[0m\u001b[0;36m5\u001b[0m\u001b[0;34m,\u001b[0m\u001b[0;36m6\u001b[0m\u001b[0;34m,\u001b[0m\u001b[0;34m]\u001b[0m\u001b[0;34m}\u001b[0m\u001b[0;34m\u001b[0m\u001b[0;34m\u001b[0m\u001b[0m\n\u001b[0m\u001b[1;32m      2\u001b[0m \u001b[0mprint\u001b[0m\u001b[0;34m(\u001b[0m\u001b[0mx\u001b[0m\u001b[0;34m)\u001b[0m\u001b[0;34m\u001b[0m\u001b[0;34m\u001b[0m\u001b[0m\n",
            "\u001b[0;31mTypeError\u001b[0m: unhashable type: 'list'"
          ]
        }
      ]
    },
    {
      "cell_type": "code",
      "source": [
        "a ={{\"a:1\",\"b:2\",\"c:3\"}}\n",
        "print(a)"
      ],
      "metadata": {
        "colab": {
          "base_uri": "https://localhost:8080/",
          "height": 158
        },
        "id": "W8J1irWyZncR",
        "outputId": "7b258971-644d-4b70-befb-4049f88d6771"
      },
      "execution_count": null,
      "outputs": [
        {
          "output_type": "error",
          "ename": "TypeError",
          "evalue": "unhashable type: 'set'",
          "traceback": [
            "\u001b[0;31m---------------------------------------------------------------------------\u001b[0m",
            "\u001b[0;31mTypeError\u001b[0m                                 Traceback (most recent call last)",
            "\u001b[0;32m<ipython-input-10-a0103cc983f2>\u001b[0m in \u001b[0;36m<cell line: 0>\u001b[0;34m()\u001b[0m\n\u001b[0;32m----> 1\u001b[0;31m \u001b[0ma\u001b[0m \u001b[0;34m=\u001b[0m\u001b[0;34m{\u001b[0m\u001b[0;34m{\u001b[0m\u001b[0;34m\"a:1\"\u001b[0m\u001b[0;34m,\u001b[0m\u001b[0;34m\"b:2\"\u001b[0m\u001b[0;34m,\u001b[0m\u001b[0;34m\"c:3\"\u001b[0m\u001b[0;34m}\u001b[0m\u001b[0;34m}\u001b[0m\u001b[0;34m\u001b[0m\u001b[0;34m\u001b[0m\u001b[0m\n\u001b[0m\u001b[1;32m      2\u001b[0m \u001b[0mprint\u001b[0m\u001b[0;34m(\u001b[0m\u001b[0ma\u001b[0m\u001b[0;34m)\u001b[0m\u001b[0;34m\u001b[0m\u001b[0;34m\u001b[0m\u001b[0m\n",
            "\u001b[0;31mTypeError\u001b[0m: unhashable type: 'set'"
          ]
        }
      ]
    },
    {
      "cell_type": "markdown",
      "source": [
        "the set constructer"
      ],
      "metadata": {
        "id": "z4gs92ijK0ES"
      }
    },
    {
      "cell_type": "code",
      "source": [
        "thisset =({\"alpha\",\"beta\",\"gama\"})\n",
        "print(thisset)\n",
        "print(type(thisset))"
      ],
      "metadata": {
        "id": "XbCELeqkaDyv",
        "colab": {
          "base_uri": "https://localhost:8080/"
        },
        "outputId": "e4a97e86-00b5-4a68-b4d0-d87694743a81"
      },
      "execution_count": null,
      "outputs": [
        {
          "output_type": "stream",
          "name": "stdout",
          "text": [
            "{'gama', 'beta', 'alpha'}\n",
            "<class 'set'>\n"
          ]
        }
      ]
    },
    {
      "cell_type": "markdown",
      "source": [
        "creating empty set"
      ],
      "metadata": {
        "id": "JxiLRmRPLU4i"
      }
    },
    {
      "cell_type": "code",
      "source": [
        "a ={}\n",
        "print(a)\n",
        "print(type(a))"
      ],
      "metadata": {
        "colab": {
          "base_uri": "https://localhost:8080/"
        },
        "id": "OW71eLkELC8Y",
        "outputId": "0b2261a1-1282-48e4-b37f-9fe2b281cbce"
      },
      "execution_count": null,
      "outputs": [
        {
          "output_type": "stream",
          "name": "stdout",
          "text": [
            "{}\n",
            "<class 'dict'>\n"
          ]
        }
      ]
    },
    {
      "cell_type": "code",
      "source": [
        "a =set()\n",
        "print(a)\n",
        "print(type(a))"
      ],
      "metadata": {
        "colab": {
          "base_uri": "https://localhost:8080/"
        },
        "id": "_002OvaZLg3I",
        "outputId": "6aa7e250-1757-42a4-e586-83b0e5651f0f"
      },
      "execution_count": null,
      "outputs": [
        {
          "output_type": "stream",
          "name": "stdout",
          "text": [
            "set()\n",
            "<class 'set'>\n"
          ]
        }
      ]
    },
    {
      "cell_type": "markdown",
      "source": [
        "access items"
      ],
      "metadata": {
        "id": "EQQi55v_MRhW"
      }
    },
    {
      "cell_type": "code",
      "source": [
        "a = {\"a\",\"c\",\"b\"}\n",
        "for x in a:\n",
        "  print(a)\n"
      ],
      "metadata": {
        "colab": {
          "base_uri": "https://localhost:8080/"
        },
        "id": "dli_rY_vLrPx",
        "outputId": "15cd7181-c3a1-44d6-d49e-6068205b29ca"
      },
      "execution_count": null,
      "outputs": [
        {
          "output_type": "stream",
          "name": "stdout",
          "text": [
            "{'a', 'c', 'b'}\n",
            "{'a', 'c', 'b'}\n",
            "{'a', 'c', 'b'}\n"
          ]
        }
      ]
    },
    {
      "cell_type": "markdown",
      "source": [
        "check if items is present in the set"
      ],
      "metadata": {
        "id": "qk6YjOXxNoed"
      }
    },
    {
      "cell_type": "code",
      "source": [
        "a ={\"data\",\"anaylist\",\"google\",\"microsoft\"}\n",
        "print(\"code\" in a)"
      ],
      "metadata": {
        "colab": {
          "base_uri": "https://localhost:8080/"
        },
        "id": "0DbTQEbbMpCb",
        "outputId": "de78ea5c-9874-46d9-9ae5-38cc43f7f4b3"
      },
      "execution_count": null,
      "outputs": [
        {
          "output_type": "stream",
          "name": "stdout",
          "text": [
            "False\n"
          ]
        }
      ]
    },
    {
      "cell_type": "code",
      "source": [
        "a ={\"data\",\"anaylist\",\"google\",\"microsoft\"}\n",
        "print(\"data\" in a)"
      ],
      "metadata": {
        "colab": {
          "base_uri": "https://localhost:8080/"
        },
        "id": "G2CSyKKVN7Le",
        "outputId": "e992bb64-c3be-4c8f-a676-c3d38a46938a"
      },
      "execution_count": null,
      "outputs": [
        {
          "output_type": "stream",
          "name": "stdout",
          "text": [
            "True\n"
          ]
        }
      ]
    },
    {
      "cell_type": "markdown",
      "source": [
        "add items"
      ],
      "metadata": {
        "id": "Ay-gEV2LOMae"
      }
    },
    {
      "cell_type": "code",
      "source": [
        "b = {\"a\",\"b\",\"c\",\"d\"}\n",
        "b.add(100)\n",
        "print(b)"
      ],
      "metadata": {
        "colab": {
          "base_uri": "https://localhost:8080/"
        },
        "id": "LdsjujbsOCUh",
        "outputId": "74ade47c-3879-4aa1-ecdb-f3e6ae846a3d"
      },
      "execution_count": null,
      "outputs": [
        {
          "output_type": "stream",
          "name": "stdout",
          "text": [
            "{'a', 100, 'b', 'c', 'd'}\n"
          ]
        }
      ]
    },
    {
      "cell_type": "code",
      "source": [
        "a ={100,200,300,400,500}\n",
        "v = {\"data\",\"code\",\"python\"}\n",
        "\n",
        "a.update(v)\n",
        "print(a)"
      ],
      "metadata": {
        "colab": {
          "base_uri": "https://localhost:8080/"
        },
        "id": "lJUo2BkTObKL",
        "outputId": "34ce11af-c279-4f4e-c566-6f7b39bf5aa5"
      },
      "execution_count": null,
      "outputs": [
        {
          "output_type": "stream",
          "name": "stdout",
          "text": [
            "{400, 'code', 100, 500, 200, 'data', 300, 'python'}\n"
          ]
        }
      ]
    },
    {
      "cell_type": "markdown",
      "source": [
        "remove set items"
      ],
      "metadata": {
        "id": "fRZFLeHIO9Gt"
      }
    },
    {
      "cell_type": "code",
      "source": [
        "a ={100,200,300,400,500}\n",
        "a.remove(100)\n",
        "print(a)"
      ],
      "metadata": {
        "colab": {
          "base_uri": "https://localhost:8080/"
        },
        "id": "DeVBpNbaO5em",
        "outputId": "9b15f2df-68bb-435d-ff15-31b040f2320e"
      },
      "execution_count": null,
      "outputs": [
        {
          "output_type": "stream",
          "name": "stdout",
          "text": [
            "{400, 500, 200, 300}\n"
          ]
        }
      ]
    },
    {
      "cell_type": "code",
      "source": [
        "b ={100,200,300,400,500}\n",
        "x = b.pop()\n",
        "print(b)"
      ],
      "metadata": {
        "colab": {
          "base_uri": "https://localhost:8080/"
        },
        "id": "VlyKS0U4PIPP",
        "outputId": "0014f0d9-e674-4d6e-9640-7db59cf92362"
      },
      "execution_count": null,
      "outputs": [
        {
          "output_type": "stream",
          "name": "stdout",
          "text": [
            "{100, 500, 200, 300}\n"
          ]
        }
      ]
    },
    {
      "cell_type": "code",
      "source": [
        "b ={100,200,300,400,500}\n",
        "del b\n",
        "print(b)"
      ],
      "metadata": {
        "colab": {
          "base_uri": "https://localhost:8080/",
          "height": 176
        },
        "id": "aE6IgFGkP9jb",
        "outputId": "8d162dac-059c-4c27-c89f-461214346e9c"
      },
      "execution_count": null,
      "outputs": [
        {
          "output_type": "error",
          "ename": "NameError",
          "evalue": "name 'b' is not defined",
          "traceback": [
            "\u001b[0;31m---------------------------------------------------------------------------\u001b[0m",
            "\u001b[0;31mNameError\u001b[0m                                 Traceback (most recent call last)",
            "\u001b[0;32m<ipython-input-1-1efbacfebaab>\u001b[0m in \u001b[0;36m<cell line: 0>\u001b[0;34m()\u001b[0m\n\u001b[1;32m      1\u001b[0m \u001b[0mb\u001b[0m \u001b[0;34m=\u001b[0m\u001b[0;34m{\u001b[0m\u001b[0;36m100\u001b[0m\u001b[0;34m,\u001b[0m\u001b[0;36m200\u001b[0m\u001b[0;34m,\u001b[0m\u001b[0;36m300\u001b[0m\u001b[0;34m,\u001b[0m\u001b[0;36m400\u001b[0m\u001b[0;34m,\u001b[0m\u001b[0;36m500\u001b[0m\u001b[0;34m}\u001b[0m\u001b[0;34m\u001b[0m\u001b[0;34m\u001b[0m\u001b[0m\n\u001b[1;32m      2\u001b[0m \u001b[0;32mdel\u001b[0m \u001b[0mb\u001b[0m\u001b[0;34m\u001b[0m\u001b[0;34m\u001b[0m\u001b[0m\n\u001b[0;32m----> 3\u001b[0;31m \u001b[0mprint\u001b[0m\u001b[0;34m(\u001b[0m\u001b[0mb\u001b[0m\u001b[0;34m)\u001b[0m\u001b[0;34m\u001b[0m\u001b[0;34m\u001b[0m\u001b[0m\n\u001b[0m",
            "\u001b[0;31mNameError\u001b[0m: name 'b' is not defined"
          ]
        }
      ]
    },
    {
      "cell_type": "markdown",
      "source": [
        "join  two sets"
      ],
      "metadata": {
        "id": "sbnTdx26QIvD"
      }
    },
    {
      "cell_type": "code",
      "source": [
        "b = {100,200,300,400,500}\n",
        "y = {\"code\",\"error\",\"run\"}\n",
        "x = b.union(y)\n",
        "print(x)"
      ],
      "metadata": {
        "colab": {
          "base_uri": "https://localhost:8080/"
        },
        "id": "uTs8Z8BsPqPv",
        "outputId": "c1c6bb0d-baa8-4500-a59d-fda960fd4303"
      },
      "execution_count": null,
      "outputs": [
        {
          "output_type": "stream",
          "name": "stdout",
          "text": [
            "{400, 'code', 100, 500, 'run', 'error', 200, 300}\n"
          ]
        }
      ]
    },
    {
      "cell_type": "markdown",
      "source": [
        "write a python progam to find max and min values"
      ],
      "metadata": {
        "id": "kiV_ilnBV5La"
      }
    },
    {
      "cell_type": "code",
      "source": [
        "setn = {10,20,30,402,4,5,67,5,5,4,4,5,5,7,7,8}\n",
        "print(\"original set elements\")\n",
        "print(setn)\n",
        "print(\"Maximun value of the set is\")\n",
        "print(max(setn))\n",
        "print(\"Minimum value of the set is\")\n",
        "print(min(setn))\n"
      ],
      "metadata": {
        "colab": {
          "base_uri": "https://localhost:8080/"
        },
        "id": "Jud1On7NVVbq",
        "outputId": "9958e1d8-2286-4c0a-be27-dcaf87d9cf90"
      },
      "execution_count": null,
      "outputs": [
        {
          "output_type": "stream",
          "name": "stdout",
          "text": [
            "original set elements\n",
            "{67, 4, 5, 7, 8, 10, 402, 20, 30}\n",
            "Maximun value of the set is\n",
            "402\n",
            "Minimum value of the set is\n",
            "4\n"
          ]
        }
      ]
    },
    {
      "cell_type": "markdown",
      "source": [
        "return a new set of identical items from two sets"
      ],
      "metadata": {
        "id": "V_YGHouSZo5J"
      }
    },
    {
      "cell_type": "code",
      "source": [
        "set ={10,20,30,40,50,60,70,80,90}\n",
        "set2 = {10,20,304,50,50,60,70,80,90}\n",
        "print(set.intersection(set2))"
      ],
      "metadata": {
        "colab": {
          "base_uri": "https://localhost:8080/"
        },
        "id": "_vpR7wZNZLcO",
        "outputId": "23120537-b95c-464f-e28c-4487f492a338"
      },
      "execution_count": null,
      "outputs": [
        {
          "output_type": "stream",
          "name": "stdout",
          "text": [
            "{70, 10, 80, 50, 20, 90, 60}\n"
          ]
        }
      ]
    },
    {
      "cell_type": "markdown",
      "source": [
        "import numpy as np"
      ],
      "metadata": {
        "id": "emMTO7EFXInI"
      }
    },
    {
      "cell_type": "code",
      "source": [
        "import numpy as np"
      ],
      "metadata": {
        "id": "rfzShfgKXbuI"
      },
      "execution_count": null,
      "outputs": []
    },
    {
      "cell_type": "code",
      "source": [
        "arr = np.array([1,2,3,4,5,6])\n",
        "print(arr)\n",
        "print(type(arr))\n",
        "print(arr.ndim)"
      ],
      "metadata": {
        "colab": {
          "base_uri": "https://localhost:8080/"
        },
        "id": "QDwOIodMXKco",
        "outputId": "5c46ee37-ec80-44e3-b0a8-d3ed0052479d"
      },
      "execution_count": null,
      "outputs": [
        {
          "output_type": "stream",
          "name": "stdout",
          "text": [
            "[1 2 3 4 5 6]\n",
            "<class 'numpy.ndarray'>\n",
            "1\n"
          ]
        }
      ]
    },
    {
      "cell_type": "code",
      "source": [
        "arr = np.array((1,2,3,4,5,6))\n",
        "print(arr)\n",
        "print(type(arr))\n",
        "print(arr.ndim)"
      ],
      "metadata": {
        "colab": {
          "base_uri": "https://localhost:8080/"
        },
        "id": "-OqKl3WkYZF0",
        "outputId": "e9396de9-48d6-44e6-c0d5-8464e3afc11b"
      },
      "execution_count": null,
      "outputs": [
        {
          "output_type": "stream",
          "name": "stdout",
          "text": [
            "[1 2 3 4 5 6]\n",
            "<class 'numpy.ndarray'>\n",
            "1\n"
          ]
        }
      ]
    },
    {
      "cell_type": "markdown",
      "source": [
        "dimensions in array"
      ],
      "metadata": {
        "id": "AZ39kC4aY7kI"
      }
    },
    {
      "cell_type": "code",
      "source": [
        "import numpy as np"
      ],
      "metadata": {
        "id": "1669_OINaF5N"
      },
      "execution_count": null,
      "outputs": []
    },
    {
      "cell_type": "code",
      "source": [
        "arr = np.array(40)\n",
        "print(type(arr))\n",
        "print(arr.ndim)\n"
      ],
      "metadata": {
        "colab": {
          "base_uri": "https://localhost:8080/"
        },
        "id": "lG_SQq3XYsA2",
        "outputId": "83dc87e9-9697-4c76-82a9-42bf3d381678"
      },
      "execution_count": null,
      "outputs": [
        {
          "output_type": "stream",
          "name": "stdout",
          "text": [
            "<class 'numpy.ndarray'>\n",
            "0\n"
          ]
        }
      ]
    },
    {
      "cell_type": "markdown",
      "source": [
        "1 dimensions array\n"
      ],
      "metadata": {
        "id": "qqWU_AtoZa4O"
      }
    },
    {
      "cell_type": "code",
      "source": [
        "arr = np.array([1,3,2,3,4,2,4,5,67,75,4,])\n",
        "print(arr)\n",
        "print(type(arr))\n",
        "print(arr.ndim)\n"
      ],
      "metadata": {
        "colab": {
          "base_uri": "https://localhost:8080/"
        },
        "id": "LJANWvXOZOr8",
        "outputId": "d774e90e-e6b4-4583-d636-129c3cb9f6d3"
      },
      "execution_count": null,
      "outputs": [
        {
          "output_type": "stream",
          "name": "stdout",
          "text": [
            "[ 1  3  2  3  4  2  4  5 67 75  4]\n",
            "<class 'numpy.ndarray'>\n",
            "1\n"
          ]
        }
      ]
    },
    {
      "cell_type": "code",
      "source": [
        "arr = np.array([[1,3,2],[4,5,67]])\n",
        "print(arr)\n",
        "print(type(arr))\n",
        "print(arr.ndim)"
      ],
      "metadata": {
        "colab": {
          "base_uri": "https://localhost:8080/"
        },
        "id": "7mMsNyE5ZuY9",
        "outputId": "77f7db0e-e1a8-4cd9-c99e-a09913ac4f1a"
      },
      "execution_count": null,
      "outputs": [
        {
          "output_type": "stream",
          "name": "stdout",
          "text": [
            "[[ 1  3  2]\n",
            " [ 4  5 67]]\n",
            "<class 'numpy.ndarray'>\n",
            "2\n"
          ]
        }
      ]
    },
    {
      "cell_type": "code",
      "source": [
        "arr = np.array([[1,2,3,4,5.4],[1,2,3,4,5]])\n",
        "print(arr)\n",
        "print(type(arr))\n",
        "print(arr.ndim)"
      ],
      "metadata": {
        "colab": {
          "base_uri": "https://localhost:8080/"
        },
        "id": "oYAlzT7J8Lb4",
        "outputId": "5ce95893-e87f-46ef-9b64-6a0e7edabe5e"
      },
      "execution_count": null,
      "outputs": [
        {
          "output_type": "stream",
          "name": "stdout",
          "text": [
            "[[1.  2.  3.  4.  5.4]\n",
            " [1.  2.  3.  4.  5. ]]\n",
            "<class 'numpy.ndarray'>\n",
            "2\n"
          ]
        }
      ]
    },
    {
      "cell_type": "code",
      "source": [
        "import numpy as np"
      ],
      "metadata": {
        "id": "8EAVvrvN9RxU"
      },
      "execution_count": null,
      "outputs": []
    },
    {
      "cell_type": "code",
      "source": [
        "arr = np.array([[[1,2,3],[6,7,8],[11,12,13]]])\n",
        "print(arr)\n",
        "print(type(arr))\n",
        "print(arr.ndim)"
      ],
      "metadata": {
        "colab": {
          "base_uri": "https://localhost:8080/"
        },
        "id": "Rb4PSgd19cPp",
        "outputId": "33938852-dd20-49d4-b3d0-d87b4a3fea3c"
      },
      "execution_count": null,
      "outputs": [
        {
          "output_type": "stream",
          "name": "stdout",
          "text": [
            "[[[ 1  2  3]\n",
            "  [ 6  7  8]\n",
            "  [11 12 13]]]\n",
            "<class 'numpy.ndarray'>\n",
            "3\n"
          ]
        }
      ]
    },
    {
      "cell_type": "markdown",
      "source": [
        "higher dimensions array\n",
        "an array can have any dimensions when the array is created,you can define the\n",
        "number of dimensions by using the ndim argumenṭ."
      ],
      "metadata": {
        "id": "mofIZQWQ_Fqi"
      }
    },
    {
      "cell_type": "markdown",
      "source": [
        "create an array with 5 dimensions and verify that it has 5 dimensions:"
      ],
      "metadata": {
        "id": "evX49W2Y_mBQ"
      }
    },
    {
      "cell_type": "code",
      "source": [
        "import numpy as np"
      ],
      "metadata": {
        "id": "XOXJyCGGAXlQ"
      },
      "execution_count": 1,
      "outputs": []
    },
    {
      "cell_type": "code",
      "source": [
        "arr = np.array([1,2,3,4], ndmin=5)\n",
        "print(arr)\n",
        "print('number of dimension:', arr.ndim)"
      ],
      "metadata": {
        "colab": {
          "base_uri": "https://localhost:8080/"
        },
        "id": "6jtYXwei9v4l",
        "outputId": "fc47e69c-ddf9-48a2-e7f2-3ac004a5f705"
      },
      "execution_count": 5,
      "outputs": [
        {
          "output_type": "stream",
          "name": "stdout",
          "text": [
            "[[[[[1 2 3 4]]]]]\n",
            "number of dimension: 5\n"
          ]
        }
      ]
    },
    {
      "cell_type": "markdown",
      "source": [
        "get the element from the following array:"
      ],
      "metadata": {
        "id": "M49xuyCRENR5"
      }
    },
    {
      "cell_type": "code",
      "source": [
        "arr = np.array([1,2,3,4])\n",
        "print(arr[1])"
      ],
      "metadata": {
        "colab": {
          "base_uri": "https://localhost:8080/"
        },
        "id": "dFRc2Cv1Aqy9",
        "outputId": "f6c94e26-b544-4f0d-814a-56778b352dc4"
      },
      "execution_count": null,
      "outputs": [
        {
          "output_type": "stream",
          "name": "stdout",
          "text": [
            "2\n"
          ]
        }
      ]
    },
    {
      "cell_type": "markdown",
      "source": [
        "get the third and sixth and 8th element from the following array and add them"
      ],
      "metadata": {
        "id": "DVsuuo1ME48F"
      }
    },
    {
      "cell_type": "code",
      "source": [
        "m = np.array([1,2,3,4,5,6,7,86,24,24,46,78])\n",
        "print(\"the second element is\",m[2])\n",
        "print(\"the fifth element is\",m[5])\n",
        "print(\"the fourth element is\",m[4])\n",
        "print(\"the sum of element is\",m[2]+m[5]+m[4])"
      ],
      "metadata": {
        "colab": {
          "base_uri": "https://localhost:8080/"
        },
        "id": "k1-8luPwEvWR",
        "outputId": "657cc713-4aae-459e-b5fc-b7c017ae2a4a"
      },
      "execution_count": null,
      "outputs": [
        {
          "output_type": "stream",
          "name": "stdout",
          "text": [
            "the second element is 3\n",
            "the fifth element is 6\n",
            "the fourth element is 5\n",
            "the sum of element is 14\n"
          ]
        }
      ]
    },
    {
      "cell_type": "markdown",
      "source": [
        "acess 2d array"
      ],
      "metadata": {
        "id": "cod3-YBUayBd"
      }
    },
    {
      "cell_type": "markdown",
      "source": [
        "numpy array indexing"
      ],
      "metadata": {
        "id": "FnPP658Ggau7"
      }
    },
    {
      "cell_type": "code",
      "source": [
        "import numpy as np\n",
        "arr = np.array([[1,2,3,4,5,6,6],[1,2,3,4,5,6,7]])\n",
        "print('2nd element of 1st row:',arr[0,1])\n"
      ],
      "metadata": {
        "colab": {
          "base_uri": "https://localhost:8080/"
        },
        "id": "RbcG4_eSahk1",
        "outputId": "46c4f182-e7ae-4e39-f1ac-777f4345080a"
      },
      "execution_count": null,
      "outputs": [
        {
          "output_type": "stream",
          "name": "stdout",
          "text": [
            "2nd element of 1st row: 2\n"
          ]
        }
      ]
    },
    {
      "cell_type": "code",
      "source": [
        "arr = np.array([[87,22,19,354,56,3,443],[12,23,56,78,390,9,67]])\n",
        "print('6th element of 2nd row:',arr[0,6])"
      ],
      "metadata": {
        "colab": {
          "base_uri": "https://localhost:8080/"
        },
        "id": "RrUYqqpu8Kbz",
        "outputId": "cdf86494-ade4-436d-cbdf-6efb6afb5339"
      },
      "execution_count": null,
      "outputs": [
        {
          "output_type": "stream",
          "name": "stdout",
          "text": [
            "6th element of 2nd row: 443\n"
          ]
        }
      ]
    },
    {
      "cell_type": "code",
      "source": [
        "arr = np.array([[1,2,3,4,5,6,6],[1,2,3,4,5,6,7]])\n",
        "print('first element of this row:',arr[0,5])\n",
        "print('last element of this row:',arr[1,4])\n",
        "print(\"sum is\",arr[0,5]+arr[1,4])"
      ],
      "metadata": {
        "colab": {
          "base_uri": "https://localhost:8080/"
        },
        "id": "7gi7VgcW8y0q",
        "outputId": "7d38f96d-af7e-458b-94d3-afe85c4dee5f"
      },
      "execution_count": null,
      "outputs": [
        {
          "output_type": "stream",
          "name": "stdout",
          "text": [
            "first element of this row: 6\n",
            "last element of this row: 5\n",
            "sum is 11\n"
          ]
        }
      ]
    },
    {
      "cell_type": "markdown",
      "source": [
        "slicing of numpy arrays\n",
        "joint\n",
        "concatinate"
      ],
      "metadata": {
        "id": "42Kw0T0paxhd"
      }
    },
    {
      "cell_type": "code",
      "source": [
        "import numpy as np"
      ],
      "metadata": {
        "id": "VGml2gCF98Kc"
      },
      "execution_count": null,
      "outputs": []
    },
    {
      "cell_type": "code",
      "source": [
        "arr = np.array([1,2,3,4,5,6,7])\n",
        "print(arr[2:5])"
      ],
      "metadata": {
        "id": "9-dEic3fyzon",
        "colab": {
          "base_uri": "https://localhost:8080/"
        },
        "outputId": "0b16b2a5-3833-4a80-c166-f92b88ec94b6"
      },
      "execution_count": null,
      "outputs": [
        {
          "output_type": "stream",
          "name": "stdout",
          "text": [
            "[3 4 5]\n"
          ]
        }
      ]
    },
    {
      "cell_type": "code",
      "source": [
        "arr = np.array([[1,34,56,78,9],[12,34,5,6,7]])\n",
        "print(arr[0,1:5])"
      ],
      "metadata": {
        "colab": {
          "base_uri": "https://localhost:8080/"
        },
        "id": "_1ybTY7qTOYp",
        "outputId": "2279883c-2ec8-4d6c-e0b8-b80b1a332450"
      },
      "execution_count": null,
      "outputs": [
        {
          "output_type": "stream",
          "name": "stdout",
          "text": [
            "[34 56 78  9]\n"
          ]
        }
      ]
    },
    {
      "cell_type": "code",
      "source": [
        "arr =np.array([[[1,2,3,4,5],[6,7,8,9,10],[11,12,13,14,15]]])\n",
        "print(arr[0,0:2])"
      ],
      "metadata": {
        "colab": {
          "base_uri": "https://localhost:8080/"
        },
        "id": "xG8bgTeJTnI7",
        "outputId": "0428c1ff-9169-4ce3-b6b8-b70a36fa13b9"
      },
      "execution_count": null,
      "outputs": [
        {
          "output_type": "stream",
          "name": "stdout",
          "text": [
            "[[ 1  2  3  4  5]\n",
            " [ 6  7  8  9 10]]\n"
          ]
        }
      ]
    },
    {
      "cell_type": "code",
      "source": [
        "arr = np.array([1,2,3,4,5,6,7])\n",
        "print([arr.dtype])"
      ],
      "metadata": {
        "colab": {
          "base_uri": "https://localhost:8080/"
        },
        "id": "DvFAC-eGipN1",
        "outputId": "a3723be6-d4be-4146-b5f8-48a34e200766"
      },
      "execution_count": null,
      "outputs": [
        {
          "output_type": "stream",
          "name": "stdout",
          "text": [
            "[dtype('int64')]\n"
          ]
        }
      ]
    },
    {
      "cell_type": "code",
      "source": [
        "arr = np.array([1,2,3,4],dtype = 'i4')\n",
        "print(arr)\n",
        "print(arr.dtype)\n"
      ],
      "metadata": {
        "colab": {
          "base_uri": "https://localhost:8080/"
        },
        "id": "qiqmfwACU44e",
        "outputId": "bcdbb84f-1aa3-4c0d-84e3-023c7008efe9"
      },
      "execution_count": null,
      "outputs": [
        {
          "output_type": "stream",
          "name": "stdout",
          "text": [
            "[1 2 3 4]\n",
            "int32\n"
          ]
        }
      ]
    },
    {
      "cell_type": "markdown",
      "source": [
        "numpy shape of array"
      ],
      "metadata": {
        "id": "T22ccVeskqKT"
      }
    },
    {
      "cell_type": "markdown",
      "source": [
        "numpy shape of a"
      ],
      "metadata": {
        "id": "QpRlfEivkhlo"
      }
    },
    {
      "cell_type": "markdown",
      "source": [],
      "metadata": {
        "id": "gbZ3L5w4klUH"
      }
    },
    {
      "cell_type": "code",
      "source": [
        "import numpy as np"
      ],
      "metadata": {
        "id": "fJFBooTe9u_z"
      },
      "execution_count": null,
      "outputs": []
    },
    {
      "cell_type": "code",
      "source": [
        "arr =np.array([[1,2,3,4,5],[5,6,7,8,9]])\n",
        "print(arr.shape)"
      ],
      "metadata": {
        "colab": {
          "base_uri": "https://localhost:8080/"
        },
        "id": "kCAI_gBD9UJg",
        "outputId": "f9b29e73-40dd-47a5-836c-fdf15dd60c83"
      },
      "execution_count": null,
      "outputs": [
        {
          "output_type": "stream",
          "name": "stdout",
          "text": [
            "(2, 5)\n"
          ]
        }
      ]
    },
    {
      "cell_type": "code",
      "source": [
        "arr1 =np.array([4,5,6])\n",
        "arr2 =np.array([7,8,9])\n",
        "arr =np.concatenate((arr1,arr2))\n",
        "print(arr)"
      ],
      "metadata": {
        "colab": {
          "base_uri": "https://localhost:8080/"
        },
        "id": "x-kkgj5Q9UXQ",
        "outputId": "8b610b8a-bded-4902-886f-8c2c59a0f0e7"
      },
      "execution_count": null,
      "outputs": [
        {
          "output_type": "stream",
          "name": "stdout",
          "text": [
            "[4 5 6 7 8 9]\n"
          ]
        }
      ]
    },
    {
      "cell_type": "code",
      "source": [
        "arr1 =np.array([[4,5],[6,9]])\n",
        "arr2 = np.array([[6,7],[8,9]])\n",
        "arr =np.concatenate((arr1,arr2))\n",
        "print(arr)"
      ],
      "metadata": {
        "colab": {
          "base_uri": "https://localhost:8080/"
        },
        "id": "r2lWtX0nkmgS",
        "outputId": "94d57a4d-88c8-4261-841a-d4be8bc80a0f"
      },
      "execution_count": null,
      "outputs": [
        {
          "output_type": "stream",
          "name": "stdout",
          "text": [
            "[[4 5]\n",
            " [6 9]\n",
            " [6 7]\n",
            " [8 9]]\n"
          ]
        }
      ]
    },
    {
      "cell_type": "markdown",
      "source": [
        "splitting numpy array"
      ],
      "metadata": {
        "id": "mS_fDQRl9Xl6"
      }
    },
    {
      "cell_type": "code",
      "source": [
        "arr = np.array([7,8,9,10])\n",
        "newarr = np.array_split(arr,3)\n",
        "print(newarr)"
      ],
      "metadata": {
        "colab": {
          "base_uri": "https://localhost:8080/"
        },
        "id": "SSLF-jzT9YHD",
        "outputId": "3bf7fcad-f087-4e45-d6de-939f48b57178"
      },
      "execution_count": null,
      "outputs": [
        {
          "output_type": "stream",
          "name": "stdout",
          "text": [
            "[array([7, 8]), array([9]), array([10])]\n"
          ]
        }
      ]
    },
    {
      "cell_type": "markdown",
      "source": [
        "ravel and flatten"
      ],
      "metadata": {
        "id": "f5T7q4kbCdXz"
      }
    },
    {
      "cell_type": "code",
      "source": [
        "#convert multidimentional array into 1 d array\n",
        "m = np.array([[[1,2,3],[12,13,14],[223,34,56]]])\n",
        "print(m)\n",
        "print(\"dimension is \",m.ndim)\n",
        "n = m.ravel()\n",
        "print(n)\n",
        "print(\"dimension is \",n.ndim)"
      ],
      "metadata": {
        "colab": {
          "base_uri": "https://localhost:8080/"
        },
        "id": "uL-E2c1m9W7_",
        "outputId": "96045fe2-257b-4bed-e070-f623d5d7c00b"
      },
      "execution_count": null,
      "outputs": [
        {
          "output_type": "stream",
          "name": "stdout",
          "text": [
            "[[[  1   2   3]\n",
            "  [ 12  13  14]\n",
            "  [223  34  56]]]\n",
            "dimension is  3\n",
            "[  1   2   3  12  13  14 223  34  56]\n",
            "dimension is  1\n"
          ]
        }
      ]
    },
    {
      "cell_type": "code",
      "source": [
        "m = np.array([[[1,2,3],[12,13,14],[223,34,56]]])\n",
        "print(m)\n",
        "print(\"dimension is \",m.ndim)\n",
        "n = m.flatten()\n",
        "print(n)\n",
        "print(\"dimension is \",n.ndim)"
      ],
      "metadata": {
        "colab": {
          "base_uri": "https://localhost:8080/"
        },
        "id": "zqDLpd9skQ6U",
        "outputId": "d0f537d2-f25c-4fdd-ec02-1721c7bb39b5"
      },
      "execution_count": null,
      "outputs": [
        {
          "output_type": "stream",
          "name": "stdout",
          "text": [
            "[[[  1   2   3]\n",
            "  [ 12  13  14]\n",
            "  [223  34  56]]]\n",
            "dimension is  3\n",
            "[  1   2   3  12  13  14 223  34  56]\n",
            "dimension is  1\n"
          ]
        }
      ]
    },
    {
      "cell_type": "markdown",
      "source": [
        "unique function"
      ],
      "metadata": {
        "id": "wi3TZC4ND-jF"
      }
    },
    {
      "cell_type": "code",
      "source": [
        "k = np.array([12,23,24,25,26,27,27,26,252,25,24,23,24])\n",
        "print(k)\n",
        "x =np.unique(k)\n",
        "print(x)\n"
      ],
      "metadata": {
        "colab": {
          "base_uri": "https://localhost:8080/"
        },
        "id": "MsO9mBG3DwGU",
        "outputId": "c7ac98ac-1c5d-4f12-e48e-50cd6e65acbb"
      },
      "execution_count": null,
      "outputs": [
        {
          "output_type": "stream",
          "name": "stdout",
          "text": [
            "[ 12  23  24  25  26  27  27  26 252  25  24  23  24]\n",
            "[ 12  23  24  25  26  27 252]\n"
          ]
        }
      ]
    },
    {
      "cell_type": "code",
      "source": [
        "k = np.array([12,23,24,25,26,27,27,26,252,25,24,23,24])\n",
        "print(k)\n",
        "x =np.unique(k, return_index = True , return_counts=True)\n",
        "print(x)"
      ],
      "metadata": {
        "colab": {
          "base_uri": "https://localhost:8080/"
        },
        "id": "PJh9cmNWEWVl",
        "outputId": "ec534461-8180-4f9f-c441-0f5263a3c019"
      },
      "execution_count": null,
      "outputs": [
        {
          "output_type": "stream",
          "name": "stdout",
          "text": [
            "[ 12  23  24  25  26  27  27  26 252  25  24  23  24]\n",
            "(array([ 12,  23,  24,  25,  26,  27, 252]), array([0, 1, 2, 3, 4, 5, 8]), array([1, 2, 3, 2, 2, 2, 1]))\n"
          ]
        }
      ]
    },
    {
      "cell_type": "code",
      "source": [
        "import numpy as np\n",
        "k = np.array([12,23,24,25,26,27,27,26,252,25,24,23,24])\n",
        "d = np.delete(k,[23])\n",
        "print(k)\n"
      ],
      "metadata": {
        "colab": {
          "base_uri": "https://localhost:8080/",
          "height": 315
        },
        "id": "rcy1aRTnEuQX",
        "outputId": "1f47cc4d-a13b-4174-b19c-2b94e676edf6"
      },
      "execution_count": null,
      "outputs": [
        {
          "output_type": "error",
          "ename": "IndexError",
          "evalue": "index 23 is out of bounds for axis 0 with size 13",
          "traceback": [
            "\u001b[0;31m---------------------------------------------------------------------------\u001b[0m",
            "\u001b[0;31mIndexError\u001b[0m                                Traceback (most recent call last)",
            "\u001b[0;32m<ipython-input-2-ea64d0fa2b13>\u001b[0m in \u001b[0;36m<cell line: 0>\u001b[0;34m()\u001b[0m\n\u001b[1;32m      1\u001b[0m \u001b[0;32mimport\u001b[0m \u001b[0mnumpy\u001b[0m \u001b[0;32mas\u001b[0m \u001b[0mnp\u001b[0m\u001b[0;34m\u001b[0m\u001b[0;34m\u001b[0m\u001b[0m\n\u001b[1;32m      2\u001b[0m \u001b[0mk\u001b[0m \u001b[0;34m=\u001b[0m \u001b[0mnp\u001b[0m\u001b[0;34m.\u001b[0m\u001b[0marray\u001b[0m\u001b[0;34m(\u001b[0m\u001b[0;34m[\u001b[0m\u001b[0;36m12\u001b[0m\u001b[0;34m,\u001b[0m\u001b[0;36m23\u001b[0m\u001b[0;34m,\u001b[0m\u001b[0;36m24\u001b[0m\u001b[0;34m,\u001b[0m\u001b[0;36m25\u001b[0m\u001b[0;34m,\u001b[0m\u001b[0;36m26\u001b[0m\u001b[0;34m,\u001b[0m\u001b[0;36m27\u001b[0m\u001b[0;34m,\u001b[0m\u001b[0;36m27\u001b[0m\u001b[0;34m,\u001b[0m\u001b[0;36m26\u001b[0m\u001b[0;34m,\u001b[0m\u001b[0;36m252\u001b[0m\u001b[0;34m,\u001b[0m\u001b[0;36m25\u001b[0m\u001b[0;34m,\u001b[0m\u001b[0;36m24\u001b[0m\u001b[0;34m,\u001b[0m\u001b[0;36m23\u001b[0m\u001b[0;34m,\u001b[0m\u001b[0;36m24\u001b[0m\u001b[0;34m]\u001b[0m\u001b[0;34m)\u001b[0m\u001b[0;34m\u001b[0m\u001b[0;34m\u001b[0m\u001b[0m\n\u001b[0;32m----> 3\u001b[0;31m \u001b[0md\u001b[0m \u001b[0;34m=\u001b[0m \u001b[0mnp\u001b[0m\u001b[0;34m.\u001b[0m\u001b[0mdelete\u001b[0m\u001b[0;34m(\u001b[0m\u001b[0mk\u001b[0m\u001b[0;34m,\u001b[0m\u001b[0;34m[\u001b[0m\u001b[0;36m23\u001b[0m\u001b[0;34m]\u001b[0m\u001b[0;34m)\u001b[0m\u001b[0;34m\u001b[0m\u001b[0;34m\u001b[0m\u001b[0m\n\u001b[0m\u001b[1;32m      4\u001b[0m \u001b[0mprint\u001b[0m\u001b[0;34m(\u001b[0m\u001b[0mk\u001b[0m\u001b[0;34m)\u001b[0m\u001b[0;34m\u001b[0m\u001b[0;34m\u001b[0m\u001b[0m\n",
            "\u001b[0;32m/usr/local/lib/python3.11/dist-packages/numpy/lib/_function_base_impl.py\u001b[0m in \u001b[0;36mdelete\u001b[0;34m(arr, obj, axis)\u001b[0m\n\u001b[1;32m   5541\u001b[0m         \u001b[0;31m# optimization for a single value\u001b[0m\u001b[0;34m\u001b[0m\u001b[0;34m\u001b[0m\u001b[0m\n\u001b[1;32m   5542\u001b[0m         \u001b[0;32mif\u001b[0m \u001b[0;34m(\u001b[0m\u001b[0mobj\u001b[0m \u001b[0;34m<\u001b[0m \u001b[0;34m-\u001b[0m\u001b[0mN\u001b[0m \u001b[0;32mor\u001b[0m \u001b[0mobj\u001b[0m \u001b[0;34m>=\u001b[0m \u001b[0mN\u001b[0m\u001b[0;34m)\u001b[0m\u001b[0;34m:\u001b[0m\u001b[0;34m\u001b[0m\u001b[0;34m\u001b[0m\u001b[0m\n\u001b[0;32m-> 5543\u001b[0;31m             raise IndexError(\n\u001b[0m\u001b[1;32m   5544\u001b[0m                 \u001b[0;34m\"index %i is out of bounds for axis %i with \"\u001b[0m\u001b[0;34m\u001b[0m\u001b[0;34m\u001b[0m\u001b[0m\n\u001b[1;32m   5545\u001b[0m                 \"size %i\" % (obj, axis, N))\n",
            "\u001b[0;31mIndexError\u001b[0m: index 23 is out of bounds for axis 0 with size 13"
          ]
        }
      ]
    },
    {
      "cell_type": "code",
      "source": [
        "import pandas as pd"
      ],
      "metadata": {
        "id": "ZFI0rYbuFXSp"
      },
      "execution_count": null,
      "outputs": []
    },
    {
      "cell_type": "code",
      "source": [
        "pd.read_csv()"
      ],
      "metadata": {
        "id": "l7EGBq53Kdl6"
      },
      "execution_count": null,
      "outputs": []
    }
  ],
  "metadata": {
    "colab": {
      "toc_visible": true,
      "provenance": []
    },
    "kernelspec": {
      "display_name": "Python 3",
      "name": "python3"
    },
    "language_info": {
      "name": "python"
    }
  },
  "nbformat": 4,
  "nbformat_minor": 0
}